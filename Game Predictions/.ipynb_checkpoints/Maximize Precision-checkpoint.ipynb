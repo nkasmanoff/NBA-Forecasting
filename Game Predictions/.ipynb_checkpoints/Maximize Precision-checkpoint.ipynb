{
 "cells": [
  {
   "cell_type": "markdown",
   "metadata": {},
   "source": [
    "Following the textbook, maximize the precision of these datasets."
   ]
  },
  {
   "cell_type": "code",
   "execution_count": 22,
   "metadata": {
    "collapsed": true
   },
   "outputs": [],
   "source": [
    "import pandas as pd\n",
    "import numpy as np\n",
    "\n",
    "pd.set_option('display.max_rows', 500)\n",
    "pd.set_option('display.max_columns', 500)\n",
    "pd.set_option('display.width', 1000)\n"
   ]
  },
  {
   "cell_type": "code",
   "execution_count": 23,
   "metadata": {
    "collapsed": true
   },
   "outputs": [],
   "source": [
    "FILENAME = 'NBADATA.csv'"
   ]
  },
  {
   "cell_type": "code",
   "execution_count": null,
   "metadata": {
    "collapsed": true
   },
   "outputs": [],
   "source": []
  },
  {
   "cell_type": "code",
   "execution_count": 24,
   "metadata": {
    "collapsed": true
   },
   "outputs": [],
   "source": [
    "#retain relevant columns. \n",
    "data = pd.read_csv(FILENAME) \n",
    "data['3P%'] = np.divide(data['3P'].values,data['3PA'].values) \n",
    "del data['3P'],data['3PA']\n",
    "data['FG%'] = np.divide(data['FG'].values,data['FGA'].values)\n",
    "del data['FG'],data['FGA']\n",
    "data['FT%'] = np.divide(data['FT'].values,data['FTA'].values)\n",
    "del data['Unnamed: 0'],data['PLUS_MINUS'],data['TOTAL']\n",
    "del data['FT'],data['FTA']\n",
    "del data['OU']\n",
    "#del data['Team']\n",
    "#data = pd.get_dummies(data)\n",
    "\n",
    "data = data.loc[data['GAME_ID'].values < 41300001] #genius! No playoff games now :) "
   ]
  },
  {
   "cell_type": "code",
   "execution_count": 25,
   "metadata": {
    "collapsed": true
   },
   "outputs": [],
   "source": [
    "teams = data.Team.unique()"
   ]
  },
  {
   "cell_type": "code",
   "execution_count": 26,
   "metadata": {},
   "outputs": [
    {
     "data": {
      "text/plain": [
       "12300"
      ]
     },
     "execution_count": 26,
     "metadata": {},
     "output_type": "execute_result"
    }
   ],
   "source": [
    "len(data)"
   ]
  },
  {
   "cell_type": "code",
   "execution_count": null,
   "metadata": {
    "collapsed": true
   },
   "outputs": [],
   "source": []
  },
  {
   "cell_type": "code",
   "execution_count": 27,
   "metadata": {
    "collapsed": true,
    "scrolled": true
   },
   "outputs": [],
   "source": [
    "#iterate over those teams, make a rolling window over n games. \n",
    "N_GAMES = 5\n",
    "nba_data = pd.DataFrame([])\n",
    "season_ids = []\n",
    "for i,val in enumerate(data['GAME_ID'].values):\n",
    "    season_ids.append(str(val)[1:3])\n",
    "\n",
    "data['Season_ID'] = season_ids\n"
   ]
  },
  {
   "cell_type": "code",
   "execution_count": 28,
   "metadata": {},
   "outputs": [
    {
     "data": {
      "text/html": [
       "<div>\n",
       "<style scoped>\n",
       "    .dataframe tbody tr th:only-of-type {\n",
       "        vertical-align: middle;\n",
       "    }\n",
       "\n",
       "    .dataframe tbody tr th {\n",
       "        vertical-align: top;\n",
       "    }\n",
       "\n",
       "    .dataframe thead th {\n",
       "        text-align: right;\n",
       "    }\n",
       "</style>\n",
       "<table border=\"1\" class=\"dataframe\">\n",
       "  <thead>\n",
       "    <tr style=\"text-align: right;\">\n",
       "      <th></th>\n",
       "      <th>GAME_ID</th>\n",
       "      <th>Date</th>\n",
       "      <th>Team</th>\n",
       "      <th>Home</th>\n",
       "      <th>Away</th>\n",
       "      <th>OR</th>\n",
       "      <th>DR</th>\n",
       "      <th>TOT</th>\n",
       "      <th>PF</th>\n",
       "      <th>ST</th>\n",
       "      <th>TO</th>\n",
       "      <th>BL</th>\n",
       "      <th>PTS</th>\n",
       "      <th>SPREAD</th>\n",
       "      <th>3P%</th>\n",
       "      <th>FG%</th>\n",
       "      <th>FT%</th>\n",
       "      <th>Season_ID</th>\n",
       "    </tr>\n",
       "  </thead>\n",
       "  <tbody>\n",
       "    <tr>\n",
       "      <th>0</th>\n",
       "      <td>21300001</td>\n",
       "      <td>10/29/13</td>\n",
       "      <td>Orlando Magic</td>\n",
       "      <td>0</td>\n",
       "      <td>1</td>\n",
       "      <td>13</td>\n",
       "      <td>26</td>\n",
       "      <td>17</td>\n",
       "      <td>26</td>\n",
       "      <td>10</td>\n",
       "      <td>17</td>\n",
       "      <td>6</td>\n",
       "      <td>87</td>\n",
       "      <td>12.0</td>\n",
       "      <td>0.473684</td>\n",
       "      <td>0.387097</td>\n",
       "      <td>0.600000</td>\n",
       "      <td>13</td>\n",
       "    </tr>\n",
       "    <tr>\n",
       "      <th>1</th>\n",
       "      <td>21300001</td>\n",
       "      <td>10/29/13</td>\n",
       "      <td>Indiana Pacers</td>\n",
       "      <td>1</td>\n",
       "      <td>0</td>\n",
       "      <td>10</td>\n",
       "      <td>34</td>\n",
       "      <td>17</td>\n",
       "      <td>13</td>\n",
       "      <td>4</td>\n",
       "      <td>20</td>\n",
       "      <td>18</td>\n",
       "      <td>97</td>\n",
       "      <td>-12.0</td>\n",
       "      <td>0.411765</td>\n",
       "      <td>0.478873</td>\n",
       "      <td>0.687500</td>\n",
       "      <td>13</td>\n",
       "    </tr>\n",
       "    <tr>\n",
       "      <th>2</th>\n",
       "      <td>21300002</td>\n",
       "      <td>10/29/13</td>\n",
       "      <td>Chicago Bulls</td>\n",
       "      <td>0</td>\n",
       "      <td>1</td>\n",
       "      <td>11</td>\n",
       "      <td>30</td>\n",
       "      <td>23</td>\n",
       "      <td>27</td>\n",
       "      <td>11</td>\n",
       "      <td>18</td>\n",
       "      <td>4</td>\n",
       "      <td>95</td>\n",
       "      <td>5.0</td>\n",
       "      <td>0.269231</td>\n",
       "      <td>0.421687</td>\n",
       "      <td>0.782609</td>\n",
       "      <td>13</td>\n",
       "    </tr>\n",
       "    <tr>\n",
       "      <th>3</th>\n",
       "      <td>21300002</td>\n",
       "      <td>10/29/13</td>\n",
       "      <td>Miami Heat</td>\n",
       "      <td>1</td>\n",
       "      <td>0</td>\n",
       "      <td>5</td>\n",
       "      <td>35</td>\n",
       "      <td>26</td>\n",
       "      <td>21</td>\n",
       "      <td>10</td>\n",
       "      <td>18</td>\n",
       "      <td>7</td>\n",
       "      <td>107</td>\n",
       "      <td>-5.0</td>\n",
       "      <td>0.550000</td>\n",
       "      <td>0.513889</td>\n",
       "      <td>0.758621</td>\n",
       "      <td>13</td>\n",
       "    </tr>\n",
       "    <tr>\n",
       "      <th>4</th>\n",
       "      <td>21300003</td>\n",
       "      <td>10/29/13</td>\n",
       "      <td>Los Angeles Clippers</td>\n",
       "      <td>0</td>\n",
       "      <td>1</td>\n",
       "      <td>10</td>\n",
       "      <td>30</td>\n",
       "      <td>27</td>\n",
       "      <td>21</td>\n",
       "      <td>11</td>\n",
       "      <td>16</td>\n",
       "      <td>4</td>\n",
       "      <td>103</td>\n",
       "      <td>-9.5</td>\n",
       "      <td>0.380952</td>\n",
       "      <td>0.493976</td>\n",
       "      <td>0.565217</td>\n",
       "      <td>13</td>\n",
       "    </tr>\n",
       "  </tbody>\n",
       "</table>\n",
       "</div>"
      ],
      "text/plain": [
       "    GAME_ID      Date                  Team  Home  Away  OR  DR  TOT  PF  ST  TO  BL  PTS  SPREAD       3P%       FG%       FT% Season_ID\n",
       "0  21300001  10/29/13         Orlando Magic     0     1  13  26   17  26  10  17   6   87    12.0  0.473684  0.387097  0.600000        13\n",
       "1  21300001  10/29/13        Indiana Pacers     1     0  10  34   17  13   4  20  18   97   -12.0  0.411765  0.478873  0.687500        13\n",
       "2  21300002  10/29/13         Chicago Bulls     0     1  11  30   23  27  11  18   4   95     5.0  0.269231  0.421687  0.782609        13\n",
       "3  21300002  10/29/13            Miami Heat     1     0   5  35   26  21  10  18   7  107    -5.0  0.550000  0.513889  0.758621        13\n",
       "4  21300003  10/29/13  Los Angeles Clippers     0     1  10  30   27  21  11  16   4  103    -9.5  0.380952  0.493976  0.565217        13"
      ]
     },
     "execution_count": 28,
     "metadata": {},
     "output_type": "execute_result"
    }
   ],
   "source": [
    "data.head()"
   ]
  },
  {
   "cell_type": "code",
   "execution_count": null,
   "metadata": {
    "collapsed": true
   },
   "outputs": [],
   "source": []
  },
  {
   "cell_type": "code",
   "execution_count": 29,
   "metadata": {
    "scrolled": true
   },
   "outputs": [
    {
     "name": "stdout",
     "output_type": "stream",
     "text": [
      "Orlando Magic\n",
      "13\n"
     ]
    },
    {
     "name": "stderr",
     "output_type": "stream",
     "text": [
      "/Users/noahkasmanoff/anaconda/lib/python3.6/site-packages/ipykernel/__main__.py:13: SettingWithCopyWarning: \n",
      "A value is trying to be set on a copy of a slice from a DataFrame.\n",
      "Try using .loc[row_indexer,col_indexer] = value instead\n",
      "\n",
      "See the caveats in the documentation: http://pandas.pydata.org/pandas-docs/stable/indexing.html#indexing-view-versus-copy\n"
     ]
    },
    {
     "name": "stdout",
     "output_type": "stream",
     "text": [
      "14\n",
      "15\n",
      "16\n",
      "17\n",
      "Indiana Pacers\n",
      "13\n",
      "14\n",
      "15\n",
      "16\n",
      "17\n",
      "Chicago Bulls\n",
      "13\n",
      "14\n",
      "15\n",
      "16\n",
      "17\n",
      "Miami Heat\n",
      "13\n",
      "14\n",
      "15\n",
      "16\n",
      "17\n",
      "Los Angeles Clippers\n",
      "13\n",
      "14\n",
      "15\n",
      "16\n",
      "17\n",
      "Los Angeles Lakers\n",
      "13\n",
      "14\n",
      "15\n",
      "16\n",
      "17\n",
      "Brooklyn Nets\n",
      "13\n",
      "14\n",
      "15\n",
      "16\n",
      "17\n",
      "Cleveland Cavaliers\n",
      "13\n",
      "14\n",
      "15\n",
      "16\n",
      "17\n",
      "Philadelphia 76ers\n",
      "13\n",
      "14\n",
      "15\n",
      "16\n",
      "17\n",
      "Boston Celtics\n",
      "13\n",
      "14\n",
      "15\n",
      "16\n",
      "17\n",
      "Toronto Raptors\n",
      "13\n",
      "14\n",
      "15\n",
      "16\n",
      "17\n",
      "Washington Wizards\n",
      "13\n",
      "14\n",
      "15\n",
      "16\n",
      "17\n",
      "Detroit Pistons\n",
      "13\n",
      "14\n",
      "15\n",
      "16\n",
      "17\n",
      "Milwaukee Bucks\n",
      "13\n",
      "14\n",
      "15\n",
      "16\n",
      "17\n",
      "New York Knicks\n",
      "13\n",
      "14\n",
      "15\n",
      "16\n",
      "17\n",
      "Charlotte Hornets\n",
      "13\n",
      "14\n",
      "15\n",
      "16\n",
      "17\n",
      "Houston Rockets\n",
      "13\n",
      "14\n",
      "15\n",
      "16\n",
      "17\n",
      "Minnesota Timberwolves\n",
      "13\n",
      "14\n",
      "15\n",
      "16\n",
      "17\n",
      "New Orleans Pelicans\n",
      "13\n",
      "14\n",
      "15\n",
      "16\n",
      "17\n",
      "Atlanta Hawks\n",
      "13\n",
      "14\n",
      "15\n",
      "16\n",
      "17\n",
      "Dallas Mavericks\n",
      "13\n",
      "14\n",
      "15\n",
      "16\n",
      "17\n",
      "Memphis Grizzlies\n",
      "13\n",
      "14\n",
      "15\n",
      "16\n",
      "17\n",
      "San Antonio Spurs\n",
      "13\n",
      "14\n",
      "15\n",
      "16\n",
      "17\n",
      "Oklahoma City Thunder\n",
      "13\n",
      "14\n",
      "15\n",
      "16\n",
      "17\n",
      "Utah Jazz\n",
      "13\n",
      "14\n",
      "15\n",
      "16\n",
      "17\n",
      "Portland Trail Blazers\n",
      "13\n",
      "14\n",
      "15\n",
      "16\n",
      "17\n",
      "Phoenix Suns\n",
      "13\n",
      "14\n",
      "15\n",
      "16\n",
      "17\n",
      "Denver Nuggets\n",
      "13\n",
      "14\n",
      "15\n",
      "16\n",
      "17\n",
      "Sacramento Kings\n",
      "13\n",
      "14\n",
      "15\n",
      "16\n",
      "17\n",
      "Golden State Warriors\n",
      "13\n",
      "14\n",
      "15\n",
      "16\n",
      "17\n"
     ]
    }
   ],
   "source": [
    "for team in teams:\n",
    "    print(team)\n",
    "    #get separate seasons here\n",
    "    team_data = data.loc[data['Team'] == team]  #this contains the box score of every team game from 2013 to 2018.\n",
    "    for season in data['Season_ID'].unique():\n",
    "        print(season)\n",
    "        team_season = team_data.loc[team_data['Season_ID'] == season]\n",
    "        \n",
    "        stuff_to_turn_into_avgs = ['OR', 'DR', 'TOT', 'PF', 'ST', 'TO', 'BL', '3P%', 'FG%', 'FT%','PTS']\n",
    "        for col in team_season.columns:\n",
    "            if col in stuff_to_turn_into_avgs:\n",
    "            #split each season up here, \n",
    "                team_season['Rolling ' + col] = team_season[col].rolling(window=N_GAMES).mean().shift(1)\n",
    "                if col != 'PTS':\n",
    "                    del team_season[col]\n",
    "        nba_data =  nba_data.append(team_season)\n",
    "\n",
    "    #if seasons are the same, do this here, use the GAME_ID signifier. \n"
   ]
  },
  {
   "cell_type": "code",
   "execution_count": 30,
   "metadata": {
    "collapsed": true
   },
   "outputs": [],
   "source": [
    "nba_data_splits = nba_data.sort_values(by = ['GAME_ID', 'Home','Away'], ascending=[True, True,False])\n",
    "\n",
    "nba_data_splits.dropna(inplace=True)  #null values come with rolling means, drop those now. \n",
    "del nba_data_splits['GAME_ID'],nba_data_splits['Date'],nba_data_splits['Home'],nba_data_splits['Away'],nba_data_splits['Team']\n",
    "del nba_data_splits['Season_ID']"
   ]
  },
  {
   "cell_type": "code",
   "execution_count": 31,
   "metadata": {},
   "outputs": [
    {
     "name": "stderr",
     "output_type": "stream",
     "text": [
      "/Users/noahkasmanoff/anaconda/lib/python3.6/site-packages/ipykernel/__main__.py:6: SettingWithCopyWarning: \n",
      "A value is trying to be set on a copy of a slice from a DataFrame.\n",
      "Try using .loc[row_indexer,col_indexer] = value instead\n",
      "\n",
      "See the caveats in the documentation: http://pandas.pydata.org/pandas-docs/stable/indexing.html#indexing-view-versus-copy\n",
      "/Users/noahkasmanoff/anaconda/lib/python3.6/site-packages/ipykernel/__main__.py:7: SettingWithCopyWarning: \n",
      "A value is trying to be set on a copy of a slice from a DataFrame.\n",
      "Try using .loc[row_indexer,col_indexer] = value instead\n",
      "\n",
      "See the caveats in the documentation: http://pandas.pydata.org/pandas-docs/stable/indexing.html#indexing-view-versus-copy\n"
     ]
    }
   ],
   "source": [
    "#now align the box scores so its one big one for each game, home team and road teams. \n",
    "\n",
    "road_df = nba_data_splits.iloc[::2]\n",
    "home_df = nba_data_splits.iloc[1::2]\n",
    "for col in nba_data_splits.columns:\n",
    "    road_df['road_' + col] = road_df[col]\n",
    "    home_df['home_' + col] = home_df[col]\n",
    "    \n",
    "    del road_df[col],home_df[col]\n",
    "\n",
    "home_df.reset_index(inplace=True)\n",
    "road_df.reset_index(inplace=True)\n",
    "\n",
    "#merged into a dataframe here. \n",
    "df = pd.concat([road_df,home_df],axis=1)\n",
    "del df['index']"
   ]
  },
  {
   "cell_type": "code",
   "execution_count": null,
   "metadata": {
    "collapsed": true
   },
   "outputs": [],
   "source": []
  },
  {
   "cell_type": "code",
   "execution_count": 32,
   "metadata": {
    "collapsed": true
   },
   "outputs": [],
   "source": [
    "#create the dataset here. Can consider the spread, or winner. \n",
    "#at the moment only using a single classifier, that seems sufficient. A home team loss is synonymous with a road team win. \n",
    "spread = False\n",
    "winner = True\n",
    "\n",
    "df['final_SPREAD'] = df['road_PTS'] - df['home_PTS']\n",
    "del df['road_PTS'], df['home_PTS'],df['home_SPREAD']\n",
    "           # if openspread + endspread <0:\n",
    "            #    y.append(np.array([0,1,0]))  #home team covered\n",
    "            #elif openspread + endspread >0:\n",
    "            #    y.append(np.array([1,0,0]))  #road covered\n",
    "           # else: \n",
    "           #     y.append(np.array([0,0,1]))  #push!\n",
    "y = []\n",
    "\n",
    "if spread: \n",
    "    for i in range(len(df)):\n",
    "        if df['road_SPREAD'].values[i] + df['final_SPREAD'].values[i] < 0:\n",
    "            y.append(1) #home team covers\n",
    "        else: # df['road_SPREAD'].values[i] + df['final_SPREAD'].values[i] > 0:\n",
    "            y.append(0) #road team covers or push\n",
    "    #else:\n",
    "    #    y.append(np.array([0,1]))  #push! \n",
    "    \n",
    "if winner:\n",
    "    for i in range(len(df)):\n",
    "        if df['final_SPREAD'].values[i] < 0: #home team won. \n",
    "            y.append(1)\n",
    "        else:\n",
    "            y.append(0) #road team won. \n",
    "\n",
    "del df['final_SPREAD']\n",
    "\n",
    "y_names = np.array(['road team win', 'home team win']) #for preprocessing/visualization. "
   ]
  },
  {
   "cell_type": "code",
   "execution_count": 33,
   "metadata": {
    "collapsed": true
   },
   "outputs": [],
   "source": [
    "from sklearn.manifold import TSNE\n",
    "tsne = TSNE(n_components=2)\n"
   ]
  },
  {
   "cell_type": "code",
   "execution_count": 34,
   "metadata": {
    "collapsed": true
   },
   "outputs": [],
   "source": [
    "X_tsne = tsne.fit_transform(df.values)"
   ]
  },
  {
   "cell_type": "code",
   "execution_count": 35,
   "metadata": {
    "collapsed": true
   },
   "outputs": [],
   "source": [
    "import matplotlib.pyplot as plt\n",
    "%matplotlib inline\n",
    "\n",
    "import mglearn"
   ]
  },
  {
   "cell_type": "code",
   "execution_count": 36,
   "metadata": {},
   "outputs": [
    {
     "data": {
      "text/plain": [
       "<matplotlib.text.Text at 0x11edaa630>"
      ]
     },
     "execution_count": 36,
     "metadata": {},
     "output_type": "execute_result"
    },
    {
     "data": {
      "image/png": "[encoded data removed]",
      "text/plain": [
       "<matplotlib.figure.Figure at 0x10b862860>"
      ]
     },
     "metadata": {},
     "output_type": "display_data"
    }
   ],
   "source": [
    "plt.figure(figsize=(8,8))\n",
    "mglearn.discrete_scatter(X_tsne[:,0],X_tsne[:,1],y)\n",
    "plt.legend(y_names,loc='best')\n",
    "plt.gca().set_aspect('equal')\n",
    "plt.title('TSNE for Winner') "
   ]
  },
  {
   "cell_type": "code",
   "execution_count": null,
   "metadata": {
    "collapsed": true
   },
   "outputs": [],
   "source": []
  },
  {
   "cell_type": "markdown",
   "metadata": {},
   "source": [
    "# Pipeline Implementation Thursday @ 7:15"
   ]
  },
  {
   "cell_type": "code",
   "execution_count": null,
   "metadata": {
    "collapsed": true
   },
   "outputs": [],
   "source": [
    "from sklearn.pipeline import Pipeline\n",
    "from sklearn.svm import SVC\n",
    "from sklearn.model_selection import GridSearchCV\n",
    "from sklearn.model_selection import train_test_split\n",
    "from sklearn.preprocessing import MinMaxScaler\n",
    "X = df.values\n",
    "\n",
    "X_train,X_test,y_train,y_test = train_test_split(X,y,random_state = 0)\n",
    "\n",
    "pipe = Pipeline([(\"scaler\",MinMaxScaler()),(\"svm\",SVC())])\n",
    "param_grid = {'svm__C': [.001,.005,.05,.1,.5,1],'svm__gamma': [.001,.005,.05,.1,.5,1]}\n",
    "grid = GridSearchCV(pipe,param_grid=param_grid,cv=5)\n",
    "\n",
    "\n",
    "grid.fit(X_train,y_train)\n",
    "\n",
    "print(\"Best cross val acc: \",grid.best_score_)\n",
    "print(\"test score: \", grid.score(X_test,y_test))\n",
    "print(\"Best parameters: \", grid.best_params_)\n",
    "\n"
   ]
  },
  {
   "cell_type": "code",
   "execution_count": null,
   "metadata": {
    "collapsed": true
   },
   "outputs": [],
   "source": [
    "pipe.score(X_test,y_test)"
   ]
  },
  {
   "cell_type": "code",
   "execution_count": null,
   "metadata": {
    "collapsed": true
   },
   "outputs": [],
   "source": []
  },
  {
   "cell_type": "code",
   "execution_count": null,
   "metadata": {
    "collapsed": true
   },
   "outputs": [],
   "source": []
  },
  {
   "cell_type": "markdown",
   "metadata": {},
   "source": [
    "Grid Search Practice Here"
   ]
  },
  {
   "cell_type": "code",
   "execution_count": null,
   "metadata": {
    "collapsed": true
   },
   "outputs": [],
   "source": [
    "from sklearn.model_selection import cross_val_score\n",
    "from sklearn.svm import SVC\n",
    "from sklearn.model_selection import GridSearchCV\n",
    "from sklearn.model_selection import train_test_split\n",
    "from sklearn.preprocessing import MinMaxScaler\n",
    "\n",
    "X = df.values\n",
    "\n",
    "scaler = MinMaxScaler()\n",
    "X_train,X_test,y_train,y_test = train_test_split(X,y,random_state = 0)\n",
    "\n",
    "scaler.fit(X_train)\n",
    "X_train = scaler.transform(X_train)\n",
    "X_test = scaler.transform(X_test)\n",
    "param_grid = {'C': [.1,.11,.124],'gamma': [.0085,.009]}\n",
    "\n",
    "grid_search = GridSearchCV(SVC(),param_grid,cv=5)\n",
    "\n",
    "grid_search.fit(X_train,y_train)\n",
    "\n",
    "test_score = grid_search.score(X_test,y_test)\n",
    "print(\"Test set score: \", test_score)\n",
    "\n",
    "cutoff  = 0.52381\n",
    "\n",
    "if test_score>cutoff:\n",
    "    print(\"This is profitable!\")\n",
    "    winnings = 1*test_score - 1.1*(1-test_score)\n",
    "    print(\"in 10 games w/ 10$ bets, you'd make \", 100*winnings, 'with no outside interference.')"
   ]
  },
  {
   "cell_type": "code",
   "execution_count": null,
   "metadata": {
    "collapsed": true
   },
   "outputs": [],
   "source": [
    "grid_search.best_params_"
   ]
  },
  {
   "cell_type": "code",
   "execution_count": null,
   "metadata": {
    "collapsed": true
   },
   "outputs": [],
   "source": [
    "grid_search.best_score_"
   ]
  },
  {
   "cell_type": "code",
   "execution_count": null,
   "metadata": {
    "collapsed": true
   },
   "outputs": [],
   "source": [
    "\n",
    "import numpy as np\n",
    "import matplotlib.pyplot as plt\n",
    "from sklearn.datasets import load_digits\n",
    "from sklearn.model_selection import GridSearchCV\n",
    "from sklearn.pipeline import Pipeline\n",
    "from sklearn.svm import LinearSVC\n",
    "from sklearn.decomposition import PCA, NMF\n",
    "from sklearn.feature_selection import SelectKBest, chi2\n",
    "\n",
    "\n",
    "pipe = Pipeline([\n",
    "    ('reduce_dim', PCA()),\n",
    "    ('classify', LinearSVC())\n",
    "])\n",
    "\n",
    "N_FEATURES_OPTIONS = [10, 15, 23]\n",
    "C_OPTIONS = [1, 10, 100, 1000]\n",
    "param_grid = [\n",
    "    {\n",
    "        'reduce_dim': [PCA(iterated_power=7), NMF()],\n",
    "        'reduce_dim__n_components': N_FEATURES_OPTIONS,\n",
    "        'classify__C': C_OPTIONS\n",
    "    },\n",
    "    {\n",
    "        'reduce_dim': [SelectKBest(chi2)],\n",
    "        'reduce_dim__k': N_FEATURES_OPTIONS,\n",
    "        'classify__C': C_OPTIONS\n",
    "    },\n",
    "]\n",
    "reducer_labels = ['PCA', 'NMF', 'KBest(chi2)']\n",
    "\n",
    "grid = GridSearchCV(pipe, cv=3, n_jobs=1, param_grid=param_grid)\n",
    "grid.fit(X.values, y)\n",
    "\n",
    "mean_scores = np.array(grid.cv_results_['mean_test_score'])\n",
    "# scores are in the order of param_grid iteration, which is alphabetical\n",
    "mean_scores = mean_scores.reshape(len(C_OPTIONS), -1, len(N_FEATURES_OPTIONS))\n",
    "# select score for best C\n",
    "mean_scores = mean_scores.max(axis=0)\n",
    "bar_offsets = (np.arange(len(N_FEATURES_OPTIONS)) *\n",
    "               (len(reducer_labels) + 1) + .5)\n",
    "\n",
    "plt.figure()\n",
    "COLORS = 'bgrcmyk'\n",
    "for i, (label, reducer_scores) in enumerate(zip(reducer_labels, mean_scores)):\n",
    "    plt.bar(bar_offsets + i, reducer_scores, label=label, color=COLORS[i])\n",
    "\n",
    "plt.title(\"Comparing feature reduction techniques\")\n",
    "plt.xlabel('Reduced number of features')\n",
    "plt.xticks(bar_offsets + len(reducer_labels) / 2, N_FEATURES_OPTIONS)\n",
    "plt.ylabel('spread guess accuracy')\n",
    "plt.ylim((0, 1))\n",
    "plt.legend(loc='upper left')"
   ]
  },
  {
   "cell_type": "code",
   "execution_count": null,
   "metadata": {
    "collapsed": true
   },
   "outputs": [],
   "source": []
  },
  {
   "cell_type": "code",
   "execution_count": null,
   "metadata": {
    "collapsed": true
   },
   "outputs": [],
   "source": []
  },
  {
   "cell_type": "code",
   "execution_count": null,
   "metadata": {
    "collapsed": true
   },
   "outputs": [],
   "source": []
  },
  {
   "cell_type": "code",
   "execution_count": null,
   "metadata": {
    "collapsed": true
   },
   "outputs": [],
   "source": []
  },
  {
   "cell_type": "code",
   "execution_count": null,
   "metadata": {
    "collapsed": true
   },
   "outputs": [],
   "source": []
  },
  {
   "cell_type": "code",
   "execution_count": null,
   "metadata": {
    "collapsed": true
   },
   "outputs": [],
   "source": []
  },
  {
   "cell_type": "code",
   "execution_count": null,
   "metadata": {
    "collapsed": true
   },
   "outputs": [],
   "source": [
    "#scale and split the data here. \n",
    "from sklearn.preprocessing import MinMaxScaler\n",
    "from sklearn.model_selection import train_test_split\n",
    "\n",
    "#this is done in a relatively un-pythonic way. Can also all be in one line! \n",
    "scaler = MinMaxScaler()\n",
    "\n",
    "scaler.fit(df.values)\n",
    "y=np.array(y)\n",
    "X = scaler.transform(df.values)\n",
    "X_train,X_test, y_train, y_test = train_test_split(X,y,random_state = 69)"
   ]
  },
  {
   "cell_type": "markdown",
   "metadata": {},
   "source": [
    "# Trying some simple stuff right here. Want to use polynomial ordering, besides that go back to the copy 1 version. "
   ]
  },
  {
   "cell_type": "code",
   "execution_count": null,
   "metadata": {
    "collapsed": true
   },
   "outputs": [],
   "source": [
    "from sklearn.linear_model import LogisticRegression"
   ]
  },
  {
   "cell_type": "code",
   "execution_count": null,
   "metadata": {
    "collapsed": true
   },
   "outputs": [],
   "source": [
    "logreg = LogisticRegression()\n",
    "logreg.fit(X_train,y_train)\n",
    "print(logreg.score(X_train,y_train))\n",
    "\n",
    "print(logreg.score(X_test,y_test))  #bad!"
   ]
  },
  {
   "cell_type": "code",
   "execution_count": null,
   "metadata": {
    "collapsed": true
   },
   "outputs": [],
   "source": [
    "from sklearn.preprocessing import PolynomialFeatures\n",
    "from sklearn.metrics import precision_score\n",
    "\n",
    "poly_transformer = PolynomialFeatures(degree=2,interaction_only=True,include_bias=False)\n",
    "X_train_poly = poly_transformer.fit_transform(X_train)\n",
    "\n",
    "X_test_poly = poly_transformer.fit_transform(X_test)\n",
    "\n",
    "\n",
    "from sklearn.decomposition import PCA\n",
    "principal_features = 3\n",
    "pca = PCA(n_components = principal_features)\n",
    "\n",
    "pca.fit(X_train)\n",
    "X_train_pca = pca.transform(X_train)  #turns it into a two feature dataset. \n",
    "X_test_pca = pca.transform(X_test)"
   ]
  },
  {
   "cell_type": "code",
   "execution_count": null,
   "metadata": {
    "collapsed": true
   },
   "outputs": [],
   "source": [
    "from sklearn.linear_model import LogisticRegression\n",
    "logreg = LogisticRegression()\n",
    "print(\"Normal\")\n",
    "logreg.fit(X_train,y_train)\n",
    "print(logreg.score(X_train,y_train))\n",
    "\n",
    "print(logreg.score(X_test,y_test))\n",
    "print(\"\")\n",
    "print(\"Poly\")\n",
    "logreg.fit(X_train_poly,y_train)\n",
    "print(logreg.score(X_train_poly,y_train))\n",
    "\n",
    "print(logreg.score(X_test_poly,y_test))\n",
    "\n",
    "\n",
    "print(\"\")\n",
    "print(\"PCA\")\n",
    "logreg.fit(X_train_pca,y_train)\n",
    "print(logreg.score(X_train_pca,y_train))\n",
    "\n",
    "print(logreg.score(X_test_pca,y_test))"
   ]
  },
  {
   "cell_type": "code",
   "execution_count": null,
   "metadata": {
    "collapsed": true
   },
   "outputs": [],
   "source": [
    "print(\"normal\")\n",
    "model.fit(X_train,y_train)\n",
    "print(model.score(X_train,y_train))\n",
    "print(model.score(X_test,y_test))\n",
    "y_pred = model.predict(X_test)\n",
    "print('precision= ',precision_score(y_test,y_pred))"
   ]
  },
  {
   "cell_type": "code",
   "execution_count": null,
   "metadata": {
    "collapsed": true
   },
   "outputs": [],
   "source": [
    "np.shape(X[:][0:int(len(X[0])/2)])"
   ]
  },
  {
   "cell_type": "code",
   "execution_count": null,
   "metadata": {
    "collapsed": true
   },
   "outputs": [],
   "source": [
    "np.shape(X[:][len(X[0]):-1])"
   ]
  },
  {
   "cell_type": "code",
   "execution_count": null,
   "metadata": {
    "collapsed": true
   },
   "outputs": [],
   "source": [
    "np.shape(X)"
   ]
  },
  {
   "cell_type": "code",
   "execution_count": null,
   "metadata": {
    "collapsed": true
   },
   "outputs": [],
   "source": [
    "from sklearn.neural_network import MLPClassifier\n",
    "\n",
    "model = MLPClassifier()\n",
    "\n",
    "print(\"normal\")\n",
    "model.fit(X_train,y_train)\n",
    "print(model.score(X_train,y_train))\n",
    "print(model.score(X_test,y_test))\n",
    "y_pred = model.predict(X_test)\n",
    "print('precision= ',precision_score(y_test,y_pred))\n",
    "\n",
    "print()\n",
    "print(\"poly\")\n",
    "model.fit(X_train_poly,y_train)\n",
    "print(model.score(X_train_poly,y_train))\n",
    "print(model.score(X_test_poly,y_test))\n",
    "y_pred = model.predict(X_test_poly)\n",
    "print('precision= ',precision_score(y_test,y_pred))\n",
    "\n",
    "print()\n",
    "print(\"pca\")\n",
    "\n",
    "model.fit(X_train_pca,y_train)\n",
    "print(model.score(X_train_pca,y_train))\n",
    "print(model.score(X_test_pca,y_test))\n",
    "y_pred = model.predict(X_test_pca)\n",
    "print('precision= ',precision_score(y_test,y_pred))"
   ]
  },
  {
   "cell_type": "code",
   "execution_count": null,
   "metadata": {
    "collapsed": true
   },
   "outputs": [],
   "source": [
    "from sklearn.ensemble import RandomForestClassifier\n",
    "\n",
    "model = RandomForestClassifier()\n",
    "\n",
    "print(\"normal\")\n",
    "model.fit(X_train,y_train)\n",
    "print(model.score(X_train,y_train))\n",
    "print(model.score(X_test,y_test))\n",
    "y_pred = model.predict(X_test)\n",
    "print('precision= ',precision_score(y_test,y_pred))\n",
    "\n",
    "print()\n",
    "print(\"poly\")\n",
    "model.fit(X_train_poly,y_train)\n",
    "print(model.score(X_train_poly,y_train))\n",
    "print(model.score(X_test_poly,y_test))\n",
    "y_pred = model.predict(X_test_poly)\n",
    "print('precision= ',precision_score(y_test,y_pred))\n",
    "\n",
    "print()\n",
    "print(\"pca\")\n",
    "\n",
    "model.fit(X_train_pca,y_train)\n",
    "print(model.score(X_train_pca,y_train))\n",
    "print(model.score(X_test_pca,y_test))\n",
    "y_pred = model.predict(X_test_pca)\n",
    "print('precision= ',precision_score(y_test,y_pred))"
   ]
  },
  {
   "cell_type": "code",
   "execution_count": null,
   "metadata": {
    "collapsed": true
   },
   "outputs": [],
   "source": [
    "from sklearn.ensemble import GradientBoostingClassifier\n",
    "\n",
    "model = GradientBoostingClassifier()\n",
    "\n",
    "print(\"normal\")\n",
    "model.fit(X_train,y_train)\n",
    "print(model.score(X_train,y_train))\n",
    "print(model.score(X_test,y_test))\n",
    "y_pred = model.predict(X_test)\n",
    "print('precision= ',precision_score(y_test,y_pred))\n",
    "\n",
    "print()\n",
    "print(\"poly\")\n",
    "model.fit(X_train_poly,y_train)\n",
    "print(model.score(X_train_poly,y_train))\n",
    "print(model.score(X_test_poly,y_test))\n",
    "y_pred = model.predict(X_test_poly)\n",
    "print('precision= ',precision_score(y_test,y_pred))\n",
    "\n",
    "print()\n",
    "print(\"pca\")\n",
    "\n",
    "model.fit(X_train_pca,y_train)\n",
    "print(model.score(X_train_pca,y_train))\n",
    "print(model.score(X_test_pca,y_test))\n",
    "y_pred = model.predict(X_test_pca)\n",
    "print('precision= ',precision_score(y_test,y_pred))"
   ]
  },
  {
   "cell_type": "code",
   "execution_count": null,
   "metadata": {
    "collapsed": true
   },
   "outputs": [],
   "source": [
    "from sklearn.neighbors import KNeighborsClassifier\n",
    "\n",
    "model = KNeighborsClassifier()\n",
    "\n",
    "print(\"normal\")\n",
    "model.fit(X_train,y_train)\n",
    "print(model.score(X_train,y_train))\n",
    "print(model.score(X_test,y_test))\n",
    "y_pred = model.predict(X_test)\n",
    "print('precision= ',precision_score(y_test,y_pred))\n",
    "\n",
    "print()\n",
    "print(\"poly\")\n",
    "model.fit(X_train_poly,y_train)\n",
    "print(model.score(X_train_poly,y_train))\n",
    "print(model.score(X_test_poly,y_test))\n",
    "y_pred = model.predict(X_test_poly)\n",
    "print('precision= ',precision_score(y_test,y_pred))\n",
    "\n",
    "print()\n",
    "print(\"pca\")\n",
    "\n",
    "model.fit(X_train_pca,y_train)\n",
    "print(model.score(X_train_pca,y_train))\n",
    "print(model.score(X_test_pca,y_test))\n",
    "y_pred = model.predict(X_test_pca)\n",
    "print('precision= ',precision_score(y_test,y_pred))\n"
   ]
  },
  {
   "cell_type": "code",
   "execution_count": null,
   "metadata": {
    "collapsed": true
   },
   "outputs": [],
   "source": [
    "from sklearn.svm import SVC\n",
    "\n",
    "model = SVC()\n",
    "\n",
    "\n",
    "print(\"normal\")\n",
    "model.fit(X_train,y_train)\n",
    "print(model.score(X_train,y_train))\n",
    "print(model.score(X_test,y_test))\n",
    "y_pred = model.predict(X_test)\n",
    "print('precision= ',precision_score(y_test,y_pred))\n",
    "\n",
    "print()\n",
    "print(\"poly\")\n",
    "model.fit(X_train_poly,y_train)\n",
    "print(model.score(X_train_poly,y_train))\n",
    "print(model.score(X_test_poly,y_test))\n",
    "y_pred = model.predict(X_test_poly)\n",
    "print('precision= ',precision_score(y_test,y_pred))\n",
    "\n",
    "print()\n",
    "print(\"pca\")\n",
    "\n",
    "model.fit(X_train_pca,y_train)\n",
    "print(model.score(X_train_pca,y_train))\n",
    "print(model.score(X_test_pca,y_test))\n",
    "y_pred = model.predict(X_test_pca)\n",
    "print('precision= ',precision_score(y_test,y_pred))\n"
   ]
  },
  {
   "cell_type": "code",
   "execution_count": null,
   "metadata": {
    "collapsed": true
   },
   "outputs": [],
   "source": [
    "from sklearn.naive_bayes import GaussianNB\n",
    "\n",
    "model = GaussianNB()\n",
    "\n",
    "\n",
    "print(\"normal\")\n",
    "model.fit(X_train,y_train)\n",
    "print(model.score(X_train,y_train))\n",
    "print(model.score(X_test,y_test))\n",
    "y_pred = model.predict(X_test)\n",
    "print('precision= ',precision_score(y_test,y_pred))\n",
    "\n",
    "print()\n",
    "print(\"poly\")\n",
    "model.fit(X_train_poly,y_train)\n",
    "print(model.score(X_train_poly,y_train))\n",
    "print(model.score(X_test_poly,y_test))\n",
    "y_pred = model.predict(X_test_poly)\n",
    "print('precision= ',precision_score(y_test,y_pred))\n",
    "\n",
    "print()\n",
    "print(\"pca\")\n",
    "\n",
    "model.fit(X_train_pca,y_train)\n",
    "print(model.score(X_train_pca,y_train))\n",
    "print(model.score(X_test_pca,y_test))\n",
    "y_pred = model.predict(X_test_pca)\n",
    "print('precision= ',precision_score(y_test,y_pred))\n"
   ]
  },
  {
   "cell_type": "code",
   "execution_count": null,
   "metadata": {
    "collapsed": true
   },
   "outputs": [],
   "source": [
    "from sklearn.tree import DecisionTreeClassifier\n",
    "\n",
    "model = DecisionTreeClassifier()\n",
    "\n",
    "print(\"normal\")\n",
    "model.fit(X_train,y_train)\n",
    "print(model.score(X_train,y_train))\n",
    "print(model.score(X_test,y_test))\n",
    "y_pred = model.predict(X_test)\n",
    "print('precision= ',precision_score(y_test,y_pred))\n",
    "\n",
    "print()\n",
    "print(\"poly\")\n",
    "model.fit(X_train_poly,y_train)\n",
    "print(model.score(X_train_poly,y_train))\n",
    "print(model.score(X_test_poly,y_test))\n",
    "y_pred = model.predict(X_test_poly)\n",
    "print('precision= ',precision_score(y_test,y_pred))\n",
    "\n",
    "print()\n",
    "print(\"pca\")\n",
    "\n",
    "model.fit(X_train_pca,y_train)\n",
    "print(model.score(X_train_pca,y_train))\n",
    "print(model.score(X_test_pca,y_test))\n",
    "y_pred = model.predict(X_test_pca)\n",
    "print('precision= ',precision_score(y_test,y_pred))"
   ]
  },
  {
   "cell_type": "code",
   "execution_count": null,
   "metadata": {
    "collapsed": true
   },
   "outputs": [],
   "source": [
    "from sklearn.metrics import precision_score\n",
    "\n",
    "print('precision= ',precision_score(y_test,y_pred))"
   ]
  },
  {
   "cell_type": "code",
   "execution_count": null,
   "metadata": {
    "collapsed": true
   },
   "outputs": [],
   "source": []
  },
  {
   "cell_type": "code",
   "execution_count": null,
   "metadata": {
    "collapsed": true
   },
   "outputs": [],
   "source": [
    "model = MLPClassifier()\n",
    "\n",
    "model.fit(X_trainval,y_trainval)\n",
    "model.n_layers_ = 4\n",
    "print(model.n_layers_)\n",
    "model.\n"
   ]
  },
  {
   "cell_type": "code",
   "execution_count": null,
   "metadata": {
    "collapsed": true
   },
   "outputs": [],
   "source": [
    "from sklearn.svm import SVC\n",
    "from sklearn.model_selection import train_test_split\n",
    "\n",
    "X_trainval,X_test,y_trainval,y_test = train_test_split(X,y,random_state = 0)\n",
    "\n",
    "X_train,X_val,y_train,y_val = train_test_split(X_trainval,y_trainval,random_state = 1)\n",
    "#print size of datasets here\n",
    "\n",
    "best_score = 0\n",
    "\n",
    "for gamma in [.001,.01,.1,1,10,100]:\n",
    "    for C in [.001,.01,.1,1,10,100]:\n",
    "        svm = SVC(gamma=gamma,C=C)\n",
    "        svm.fit(X_train,y_train)\n",
    "        score = svm.score(X_val,y_val)\n",
    "        if score > best_score:\n",
    "            print(\"obtained score:\", score)\n",
    "\n",
    "            best_score = score\n",
    "            best_parameters = {'C' : C,'gamma' : gamma}\n",
    "\n",
    "svm = SVC(gamma=best_parameters['gamma'],C=best_parameters['C'])\n",
    "svm.fit(X_trainval,y_trainval)\n",
    "test_score = svm.score(X_test,y_test)\n",
    "print(\"best params: \",best_parameters['gamma'],best_parameters['C'])\n",
    "print(\"test score w/ best params: \", test_score)\n"
   ]
  },
  {
   "cell_type": "markdown",
   "metadata": {},
   "source": [
    "Created best SVM, now optimize precision. "
   ]
  },
  {
   "cell_type": "code",
   "execution_count": null,
   "metadata": {
    "collapsed": true
   },
   "outputs": [],
   "source": [
    "#Look at ordinary confusion matrix. \n",
    "from sklearn.metrics import confusion_matrix\n",
    "y_pred = svm.predict(X_test)\n",
    "confusion = confusion_matrix(y_test,y_pred)\n",
    "\n",
    "print(confusion)"
   ]
  },
  {
   "cell_type": "code",
   "execution_count": null,
   "metadata": {
    "collapsed": true
   },
   "outputs": [],
   "source": [
    "588 /(588+559)"
   ]
  },
  {
   "cell_type": "code",
   "execution_count": null,
   "metadata": {
    "collapsed": true
   },
   "outputs": [],
   "source": [
    "#Now try lowering the threshold. \n",
    "y_pred_lower_threshold = svm.decision_function(X_test) >thresholds[close_zero]\n",
    "confusion = confusion_matrix(y_test,y_pred_lower_threshold)\n",
    "print(confusion)"
   ]
  },
  {
   "cell_type": "code",
   "execution_count": null,
   "metadata": {
    "collapsed": true
   },
   "outputs": [],
   "source": [
    "thresholds[close_zero]"
   ]
  },
  {
   "cell_type": "markdown",
   "metadata": {},
   "source": [
    "Now time for the precision recall curve. "
   ]
  },
  {
   "cell_type": "code",
   "execution_count": null,
   "metadata": {
    "collapsed": true
   },
   "outputs": [],
   "source": [
    "precision,recall,thresholds = precision_recall_curve(y_test,svm.decision_function(X_test))\n",
    "close_zero = np.argmin(np.abs(thresholds))\n",
    "plt.plot(precision[close_zero],recall[close_zero],'o')\n",
    "plt.plot(precision,recall,label = 'precision recall curve')\n",
    "plt.xlabel(\"precision\")\n",
    "plt.ylabel('recall')\n",
    "plt.legend(loc='best')"
   ]
  },
  {
   "cell_type": "code",
   "execution_count": null,
   "metadata": {
    "collapsed": true
   },
   "outputs": [],
   "source": [
    "import matplotlib.pyplot as plt\n",
    "%matplotlib inline"
   ]
  },
  {
   "cell_type": "code",
   "execution_count": null,
   "metadata": {
    "collapsed": true
   },
   "outputs": [],
   "source": [
    "precision.ind[max(precision)]"
   ]
  },
  {
   "cell_type": "code",
   "execution_count": null,
   "metadata": {
    "collapsed": true
   },
   "outputs": [],
   "source": [
    "data = pd.DataFrame([])\n",
    "\n",
    "data['Precision'] = precision\n",
    "data['recall'] = recall\n",
    "data['threshold'] = thresholds"
   ]
  },
  {
   "cell_type": "code",
   "execution_count": null,
   "metadata": {
    "collapsed": true
   },
   "outputs": [],
   "source": [
    "np.argmin(thresholds)"
   ]
  },
  {
   "cell_type": "code",
   "execution_count": null,
   "metadata": {
    "collapsed": true
   },
   "outputs": [],
   "source": [
    "len(precision)"
   ]
  },
  {
   "cell_type": "code",
   "execution_count": null,
   "metadata": {
    "collapsed": true
   },
   "outputs": [],
   "source": [
    "thresholds[0]"
   ]
  },
  {
   "cell_type": "code",
   "execution_count": null,
   "metadata": {
    "collapsed": true
   },
   "outputs": [],
   "source": [
    "from sklearn.metrics import confusion_matrix\n",
    "\n",
    "confusion = confusion_matrix(y_test,y_pred_higher_threshold)"
   ]
  },
  {
   "cell_type": "code",
   "execution_count": null,
   "metadata": {
    "collapsed": true
   },
   "outputs": [],
   "source": [
    "confusion"
   ]
  },
  {
   "cell_type": "code",
   "execution_count": null,
   "metadata": {
    "collapsed": true
   },
   "outputs": [],
   "source": [
    "from sklearn.metrics import precision_recall_curve"
   ]
  },
  {
   "cell_type": "code",
   "execution_count": null,
   "metadata": {
    "collapsed": true
   },
   "outputs": [],
   "source": [
    "precision,recall, thresholds = precision_recall_curve(y_test)"
   ]
  },
  {
   "cell_type": "code",
   "execution_count": null,
   "metadata": {
    "collapsed": true
   },
   "outputs": [],
   "source": [
    "y_pred_higher_threshold = svm.decision_function(X_test) >-.8"
   ]
  },
  {
   "cell_type": "code",
   "execution_count": null,
   "metadata": {
    "collapsed": true
   },
   "outputs": [],
   "source": [
    "sum(y_pred_lower_threshold)/len(y_pred_lower_threshold)"
   ]
  },
  {
   "cell_type": "code",
   "execution_count": null,
   "metadata": {
    "collapsed": true
   },
   "outputs": [],
   "source": []
  },
  {
   "cell_type": "code",
   "execution_count": null,
   "metadata": {
    "collapsed": true
   },
   "outputs": [],
   "source": [
    "from sklearn.neural_network import MLPClassifier\n",
    "from sklearn.model_selection import train_test_split\n",
    "\n",
    "X_trainval,X_test,y_trainval,y_test = train_test_split(X,y,random_state = 0)\n",
    "\n",
    "X_train,X_val,y_train,y_val = train_test_split(X_trainval,y_trainval,random_state = 1)\n",
    "#print size of datasets here\n",
    "\n",
    "best_score = 0\n",
    "\n",
    "for alpha in [.0001,.001,.01]:\n",
    "    model = MLPClassifier(alpha=alpha)\n",
    "    model.fit(X_train,y_train)\n",
    "    score = model.score(X_val,y_val)\n",
    "    if score > best_score:\n",
    "        print(\"obtained score:\", score)\n",
    "\n",
    "        best_score = score\n",
    "        best_parameters = {'alpha' : alpha}\n",
    "\n",
    "model = MLPClassifier(alpha=best_parameters['alpha'])\n",
    "model.fit(X_trainval,y_trainval)\n",
    "test_score = model.score(X_test,y_test)\n",
    "print(\"best params: \",best_parameters['alpha'])\n",
    "print(\"test score w/ best params: \", test_score)\n"
   ]
  }
 ],
 "metadata": {
  "kernelspec": {
   "display_name": "Python 3",
   "language": "python",
   "name": "python3"
  },
  "language_info": {
   "codemirror_mode": {
    "name": "ipython",
    "version": 3
   },
   "file_extension": ".py",
   "mimetype": "text/x-python",
   "name": "python",
   "nbconvert_exporter": "python",
   "pygments_lexer": "ipython3",
   "version": "3.6.1"
  }
 },
 "nbformat": 4,
 "nbformat_minor": 2
}
