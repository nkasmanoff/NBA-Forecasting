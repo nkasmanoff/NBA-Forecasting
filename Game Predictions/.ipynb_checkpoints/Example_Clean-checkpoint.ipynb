{
 "cells": [
  {
   "cell_type": "markdown",
   "metadata": {},
   "source": [
    "# This notebook contains instructions on how this software package is used to train on on previous nba games, and by doing so attempt to predict the outcome of future ones. In this case, I will be using game 4 of the 2018 NBA finals as an example. "
   ]
  },
  {
   "cell_type": "code",
   "execution_count": 1,
   "metadata": {},
   "outputs": [
    {
     "name": "stderr",
     "output_type": "stream",
     "text": [
      "/Users/noahkasmanoff/anaconda/lib/python3.6/site-packages/sklearn/cross_validation.py:41: DeprecationWarning: This module was deprecated in version 0.18 in favor of the model_selection module into which all the refactored classes and functions are moved. Also note that the interface of the new CV iterators are different from that of this module. This module will be removed in 0.20.\n",
      "  \"This module will be removed in 0.20.\", DeprecationWarning)\n",
      "/Users/noahkasmanoff/anaconda/lib/python3.6/site-packages/h5py/__init__.py:34: FutureWarning: Conversion of the second argument of issubdtype from `float` to `np.floating` is deprecated. In future, it will be treated as `np.float64 == np.dtype(float).type`.\n",
      "  from ._conv import register_converters as _register_converters\n",
      "Using TensorFlow backend.\n"
     ]
    }
   ],
   "source": [
    "#Step 1. Load in the data and dependencies. \n",
    "%matplotlib inline\n",
    "import numpy as np\n",
    "import NNBA\n",
    "import prediction_stuff\n",
    "import matplotlib.pyplot as plt\n",
    "np.random.seed(11)  #For reproducibility. And because Brook Lopez is the best. \n",
    "#note there is continuation, so if you run it twice without resetting the kernel the restuls will be different. "
   ]
  },
  {
   "cell_type": "code",
   "execution_count": null,
   "metadata": {
    "collapsed": true
   },
   "outputs": [],
   "source": []
  },
  {
   "cell_type": "code",
   "execution_count": null,
   "metadata": {},
   "outputs": [],
   "source": []
  },
  {
   "cell_type": "code",
   "execution_count": null,
   "metadata": {},
   "outputs": [],
   "source": []
  },
  {
   "cell_type": "code",
   "execution_count": null,
   "metadata": {
    "scrolled": true
   },
   "outputs": [],
   "source": [
    "\n",
    "#Create a model for predicting the spread outcome of a game.\n",
    "\n",
    "nbapredictorSPREAD,scaler = NNBA.make_network('NBADATA.csv',sklearn=False,\n",
    "                                          keras=True,normalize=True,\n",
    "                                          spread=True)\n",
    "\n",
    "\n"
   ]
  },
  {
   "cell_type": "markdown",
   "metadata": {},
   "source": [
    "This printed result means that when it scanned over NBADATA.csv, a file created using nba_py (documented in NNBA.py), after training over 3820 games and testing over 955 games, the nbapredictor neural network could correctly classify whether or not an nba game hit the over or under 86% of the time.\n",
    "\n",
    "Note this is based on the box scores of existing games! The challenge now is to find a way to predict what the box score of a future NBA game will turn out to be. In the cells below, we use the season splits of the Cleveland Cavaliers and Golden State Warriors to predict the spread winner of each game of the 2018 NBA Finals. "
   ]
  },
  {
   "cell_type": "code",
   "execution_count": null,
   "metadata": {},
   "outputs": [],
   "source": [
    "CLE = prediction_stuff.get_splits('CLE')\n",
    "GSW = prediction_stuff.get_splits('GSW')\n",
    "spread1 = 13\n",
    "spread2 = 12.5\n",
    "spread3 = -3.5\n",
    "spread4 = -4.5\n",
    "spreads = [spread1,spread2,spread3,spread4]\n",
    "\n",
    "CLEGSW1 = prediction_stuff.spread_game_maker(CLE,GSW,spread1,scaler)\n",
    "CLEGSW2 = prediction_stuff.spread_game_maker(CLE,GSW,spread2,scaler)\n",
    "CLEGSW3 = prediction_stuff.spread_game_maker(GSW,CLE,spread3,scaler)\n",
    "CLEGSW4 = prediction_stuff.spread_game_maker(GSW,CLE,spread4,scaler)\n",
    "\n",
    "the_finals = [CLEGSW1,CLEGSW2,CLEGSW3,CLEGSW4]\n",
    "\n",
    "for i,game in enumerate(the_finals):\n",
    "    prediction =  nbapredictorSPREAD.predict(game)\n",
    "    plt.figure()\n",
    "    # Data to plot\n",
    "    labels = 'Cavs', 'Warriors', 'Push'\n",
    "    sizes = prediction[0]\n",
    "    colors = ['lightcoral', 'gold', 'green']\n",
    "    explode = (0.1, 0.1, 0.1)  # explode each slice\n",
    " \n",
    "    # Plot\n",
    "    plt.pie(sizes, explode=explode, labels=labels, colors=colors,\n",
    "        autopct='%1.1f%%', shadow=True, startangle=140)\n",
    " \n",
    "    plt.axis('equal')\n",
    "    plt.title(\"Game \"+str(i+1)+\": Who Covers the \" + str(spreads[i])+ \" Point Spread? \")"
   ]
  },
  {
   "cell_type": "markdown",
   "metadata": {},
   "source": [
    "In the end, this model ends up successfully --or the highest % belonging to the true winner--  4 out of the 4 times! I'd still consult other sources for game 3 though. Granted a small sample size, this model shows promise when extended throughout the entire NBA playoffs, and we look forward to seeing what comes of it start the 2018-19 NBA season. \n",
    "\n",
    "Of course there are many flaws with this system as the box score of a game will almost never be the exact regular season splits of a team. But this serves as a good starting point in learning more about NBA game prediction and modelling. \n"
   ]
  },
  {
   "cell_type": "markdown",
   "metadata": {},
   "source": [
    "And for other types of outcomes, the over under and ML are still experimental but follow the same procedure. Neither are as coherently programmed as this one so this is the launching point of our project. "
   ]
  },
  {
   "cell_type": "code",
   "execution_count": null,
   "metadata": {
    "collapsed": true
   },
   "outputs": [],
   "source": []
  },
  {
   "cell_type": "code",
   "execution_count": null,
   "metadata": {},
   "outputs": [],
   "source": [
    "nbapredictorML,scaler = NNBA.make_network('NBADATA.csv',sklearn=False,\n",
    "                                          keras=True,normalize=True,\n",
    "                                          moneyline=True)"
   ]
  },
  {
   "cell_type": "code",
   "execution_count": null,
   "metadata": {},
   "outputs": [],
   "source": [
    "CLE = prediction_stuff.get_splits('CLE')\n",
    "GSW = prediction_stuff.get_splits('GSW')\n",
    "spread1 = 13\n",
    "spread2 = 12.5\n",
    "spread3 = -3.5\n",
    "spread4 = -4.5\n",
    "spreads = [spread1,spread2,spread3,spread4]\n",
    "\n",
    "CLEGSW1 = prediction_stuff.ML_game_maker(CLE,GSW,spread1,scaler)\n",
    "CLEGSW2 = prediction_stuff.ML_game_maker(CLE,GSW,spread2,scaler)\n",
    "CLEGSW3 = prediction_stuff.ML_game_maker(GSW,CLE,spread3,scaler)\n",
    "CLEGSW4 = prediction_stuff.ML_game_maker(GSW,CLE,spread4,scaler)\n",
    "\n",
    "the_finals = [CLEGSW1,CLEGSW2,CLEGSW3,CLEGSW4]\n",
    "\n",
    "for i,game in enumerate(the_finals):\n",
    "    prediction =  nbapredictorML.predict(game)\n",
    "    plt.figure()\n",
    "    # Data to plot\n",
    "    labels = 'Cavs', 'Warriors'\n",
    "    sizes = prediction[0]\n",
    "    colors = ['lightcoral', 'gold', 'green']\n",
    "    explode = (0.1, 0.1)  # explode each slice\n",
    " \n",
    "    # Plot\n",
    "    plt.pie(sizes, explode=explode, labels=labels, colors=colors,\n",
    "        autopct='%1.1f%%', shadow=True, startangle=140)\n",
    " \n",
    "    plt.axis('equal')\n",
    "    plt.title(\"Who Wins Game \"+ str(i+1) + \"?\")"
   ]
  },
  {
   "cell_type": "markdown",
   "metadata": {},
   "source": [
    "Well it's a work in progress :) "
   ]
  },
  {
   "cell_type": "code",
   "execution_count": null,
   "metadata": {},
   "outputs": [],
   "source": [
    "ex.available()"
   ]
  },
  {
   "cell_type": "code",
   "execution_count": 2,
   "metadata": {},
   "outputs": [],
   "source": [
    "matchups = prediction_stuff.get_todays_games(30,4,2017)"
   ]
  },
  {
   "cell_type": "code",
   "execution_count": null,
   "metadata": {},
   "outputs": [],
   "source": []
  },
  {
   "cell_type": "code",
   "execution_count": 7,
   "metadata": {},
   "outputs": [],
   "source": [
    "teamsplits = []\n",
    "for game in matchups:\n",
    "    for team in game:\n",
    "        teamsplit = prediction_stuff.get_splits(team)  #this is one of the arrays, now pair it up like was done\n",
    "        teamsplits.append(teamsplit)"
   ]
  },
  {
   "cell_type": "code",
   "execution_count": 8,
   "metadata": {},
   "outputs": [
    {
     "data": {
      "text/plain": [
       "[array([10.   , 33.1  , 43.1  , 21.3  ,  7.9  , 14.6  ,  4.3  ,  0.375,\n",
       "         0.467,  0.772,  0.   ,  0.   ,  0.   ,  0.   ,  0.   ,  0.   ,\n",
       "         0.   ,  0.   ,  0.   ,  0.   ,  0.   ,  0.   ,  0.   ,  0.   ,\n",
       "         0.   ,  0.   ,  0.   ,  0.   ,  0.   ,  0.   ,  0.   ,  0.   ,\n",
       "         0.   ,  0.   ,  0.   ,  0.   ,  0.   ,  0.   ,  0.   ,  1.   ]),\n",
       " array([ 9.4  , 35.1  , 44.5  , 19.7  ,  7.4  , 14.   ,  4.5  ,  0.377,\n",
       "         0.45 ,  0.771,  0.   ,  1.   ,  0.   ,  0.   ,  0.   ,  0.   ,\n",
       "         0.   ,  0.   ,  0.   ,  0.   ,  0.   ,  0.   ,  0.   ,  0.   ,\n",
       "         0.   ,  0.   ,  0.   ,  0.   ,  0.   ,  0.   ,  0.   ,  0.   ,\n",
       "         0.   ,  0.   ,  0.   ,  0.   ,  0.   ,  0.   ,  0.   ,  0.   ]),\n",
       " array([ 9.   , 34.2  , 43.3  , 19.6  ,  8.6  , 14.7  ,  5.1  ,  0.366,\n",
       "         0.462,  0.779,  0.   ,  0.   ,  0.   ,  0.   ,  0.   ,  0.   ,\n",
       "         0.   ,  0.   ,  0.   ,  0.   ,  0.   ,  0.   ,  0.   ,  0.   ,\n",
       "         0.   ,  0.   ,  0.   ,  0.   ,  0.   ,  0.   ,  0.   ,  0.   ,\n",
       "         0.   ,  0.   ,  0.   ,  0.   ,  0.   ,  0.   ,  1.   ,  0.   ]),\n",
       " array([10.1  , 33.7  , 43.9  , 20.   ,  7.7  , 14.7  ,  4.5  ,  0.354,\n",
       "         0.471,  0.743,  0.   ,  0.   ,  0.   ,  0.   ,  0.   ,  0.   ,\n",
       "         0.   ,  0.   ,  0.   ,  0.   ,  0.   ,  0.   ,  1.   ,  0.   ,\n",
       "         0.   ,  0.   ,  0.   ,  0.   ,  0.   ,  0.   ,  0.   ,  0.   ,\n",
       "         0.   ,  0.   ,  0.   ,  0.   ,  0.   ,  0.   ,  0.   ,  0.   ])]"
      ]
     },
     "execution_count": 8,
     "metadata": {},
     "output_type": "execute_result"
    }
   ],
   "source": [
    "teamsplits"
   ]
  },
  {
   "cell_type": "code",
   "execution_count": 9,
   "metadata": {},
   "outputs": [],
   "source": [
    "home_teams = teamsplits[1::2]\n",
    "away_teams = teamsplits[0::2]"
   ]
  },
  {
   "cell_type": "code",
   "execution_count": 10,
   "metadata": {
    "scrolled": true
   },
   "outputs": [
    {
     "data": {
      "text/plain": [
       "[array([ 9.4  , 35.1  , 44.5  , 19.7  ,  7.4  , 14.   ,  4.5  ,  0.377,\n",
       "         0.45 ,  0.771,  0.   ,  1.   ,  0.   ,  0.   ,  0.   ,  0.   ,\n",
       "         0.   ,  0.   ,  0.   ,  0.   ,  0.   ,  0.   ,  0.   ,  0.   ,\n",
       "         0.   ,  0.   ,  0.   ,  0.   ,  0.   ,  0.   ,  0.   ,  0.   ,\n",
       "         0.   ,  0.   ,  0.   ,  0.   ,  0.   ,  0.   ,  0.   ,  0.   ]),\n",
       " array([10.1  , 33.7  , 43.9  , 20.   ,  7.7  , 14.7  ,  4.5  ,  0.354,\n",
       "         0.471,  0.743,  0.   ,  0.   ,  0.   ,  0.   ,  0.   ,  0.   ,\n",
       "         0.   ,  0.   ,  0.   ,  0.   ,  0.   ,  0.   ,  1.   ,  0.   ,\n",
       "         0.   ,  0.   ,  0.   ,  0.   ,  0.   ,  0.   ,  0.   ,  0.   ,\n",
       "         0.   ,  0.   ,  0.   ,  0.   ,  0.   ,  0.   ,  0.   ,  0.   ])]"
      ]
     },
     "execution_count": 10,
     "metadata": {},
     "output_type": "execute_result"
    }
   ],
   "source": [
    "#Spread will be extracted for that game...\n",
    "for i in range(len(home_teams)):\n",
    "    prediction_stuff.ML_game_maker(away_teams[i],home_teams[i],spread,scaler)\n",
    "    "
   ]
  },
  {
   "cell_type": "code",
   "execution_count": null,
   "metadata": {
    "collapsed": true
   },
   "outputs": [],
   "source": []
  }
 ],
 "metadata": {
  "kernelspec": {
   "display_name": "Python 3",
   "language": "python",
   "name": "python3"
  },
  "language_info": {
   "codemirror_mode": {
    "name": "ipython",
    "version": 3
   },
   "file_extension": ".py",
   "mimetype": "text/x-python",
   "name": "python",
   "nbconvert_exporter": "python",
   "pygments_lexer": "ipython3",
   "version": "3.6.1"
  }
 },
 "nbformat": 4,
 "nbformat_minor": 2
}
