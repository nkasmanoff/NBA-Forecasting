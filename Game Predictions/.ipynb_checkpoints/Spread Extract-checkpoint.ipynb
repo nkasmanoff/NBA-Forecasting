{
 "cells": [
  {
   "cell_type": "code",
   "execution_count": 1,
   "metadata": {},
   "outputs": [
    {
     "ename": "ModuleNotFoundError",
     "evalue": "No module named 'urllib2'",
     "output_type": "error",
     "traceback": [
      "\u001b[0;31m---------------------------------------------------------------------------\u001b[0m",
      "\u001b[0;31mModuleNotFoundError\u001b[0m                       Traceback (most recent call last)",
      "\u001b[0;32m<ipython-input-1-eb597205e2ea>\u001b[0m in \u001b[0;36m<module>\u001b[0;34m()\u001b[0m\n\u001b[1;32m      2\u001b[0m \u001b[0;32mfrom\u001b[0m \u001b[0mbs4\u001b[0m \u001b[0;32mimport\u001b[0m \u001b[0mBeautifulSoup\u001b[0m\u001b[0;34m\u001b[0m\u001b[0m\n\u001b[1;32m      3\u001b[0m \u001b[0;32mimport\u001b[0m \u001b[0mpandas\u001b[0m \u001b[0;32mas\u001b[0m \u001b[0mpd\u001b[0m\u001b[0;34m\u001b[0m\u001b[0m\n\u001b[0;32m----> 4\u001b[0;31m \u001b[0;32mimport\u001b[0m \u001b[0murllib2\u001b[0m\u001b[0;34m\u001b[0m\u001b[0m\n\u001b[0m\u001b[1;32m      5\u001b[0m \u001b[0;34m\u001b[0m\u001b[0m\n\u001b[1;32m      6\u001b[0m \u001b[0mdata\u001b[0m \u001b[0;34m=\u001b[0m \u001b[0mpd\u001b[0m\u001b[0;34m.\u001b[0m\u001b[0mDataFrame\u001b[0m\u001b[0;34m(\u001b[0m\u001b[0mcolumns\u001b[0m \u001b[0;34m=\u001b[0m \u001b[0;34m[\u001b[0m\u001b[0;34m'Date'\u001b[0m\u001b[0;34m,\u001b[0m \u001b[0;34m'Opponent'\u001b[0m\u001b[0;34m,\u001b[0m \u001b[0;34m'Game'\u001b[0m\u001b[0;34m,\u001b[0m \u001b[0;34m'Result'\u001b[0m\u001b[0;34m,\u001b[0m \u001b[0;34m'Score'\u001b[0m\u001b[0;34m,\u001b[0m \u001b[0;34m'ATS'\u001b[0m\u001b[0;34m,\u001b[0m \u001b[0;34m'Spread'\u001b[0m\u001b[0;34m,\u001b[0m \u001b[0;34m'OU'\u001b[0m\u001b[0;34m,\u001b[0m \u001b[0;34m'Total'\u001b[0m\u001b[0;34m,\u001b[0m \u001b[0;34m'Preview'\u001b[0m\u001b[0;34m,\u001b[0m \u001b[0;34m'Recap'\u001b[0m\u001b[0;34m,\u001b[0m \u001b[0;34m'Team'\u001b[0m\u001b[0;34m]\u001b[0m\u001b[0;34m)\u001b[0m\u001b[0;34m\u001b[0m\u001b[0m\n",
      "\u001b[0;31mModuleNotFoundError\u001b[0m: No module named 'urllib2'"
     ]
    }
   ],
   "source": [
    "# Get spread data from OddsShark.com\n",
    "from bs4 import BeautifulSoup\n",
    "import pandas as pd\n",
    "import urllib2\n",
    "\n",
    "data = pd.DataFrame(columns = ['Date', 'Opponent', 'Game', 'Result', 'Score', 'ATS', 'Spread', 'OU', 'Total', 'Preview', 'Recap', 'Team'])\n",
    "for team in range(20722,20752): #20722 - 20752 Oddshark IDs for all the teams\n",
    "    for year in range(2014, 2019): #Spread Data only goes back to 2013-2014 season\n",
    "        url = str('https://www.oddsshark.com/stats/gamelog/basketball/nba/%d/%d' %  (team, year))\n",
    "        page = urllib2.urlopen(url).read()\n",
    "        soup = BeautifulSoup(page, \"lxml\")\n",
    "        table = soup.find_all('table')[0]\n",
    "        df = pd.read_html(str(table))[0]\n",
    "        df['Team'] = soup.find_all('h1')[0].text\n",
    "        data = data.append(df)"
   ]
  },
  {
   "cell_type": "code",
   "execution_count": null,
   "metadata": {
    "collapsed": true
   },
   "outputs": [],
   "source": [
    "https://www.oddsshark.com/stats/gamelog/basketball/nba/20722/2017"
   ]
  },
  {
   "cell_type": "code",
   "execution_count": null,
   "metadata": {
    "collapsed": true
   },
   "outputs": [],
   "source": [
    "URL = 'http://games.espn.com/ffl/tools/projections?startIndex='\n",
    "starts  = np.arange(0,500,40)\n",
    "player_projections = pd.DataFrame([])\n",
    "for vals in starts:\n",
    "    print(URL + str(vals))\n",
    "    data = pd.read_html(URL + str(vals))  #scrape each one, clean each one, combine each one.\n",
    "    player_proj = data[0]\n",
    "    player_proj = player_proj[2:]  #this drops the first two rows\n",
    "    player_proj = player_proj.dropna(axis=1)\n",
    "    player_proj.columns = player_proj.iloc[0]\n",
    "    player_proj = player_proj[1:]  #no longer need that first row. \n",
    "    player_projections = pd.concat([player_projections,player_proj]) #constantly update\n",
    "    player_proj.reset_index(inplace=True)  #fix the index, seems unimportant until the end. "
   ]
  },
  {
   "cell_type": "code",
   "execution_count": 15,
   "metadata": {},
   "outputs": [
    {
     "name": "stdout",
     "output_type": "stream",
     "text": [
      "year:  2017\n",
      "year:  2017\n",
      "year:  2017\n",
      "year:  2017\n",
      "year:  2017\n",
      "year:  2017\n",
      "year:  2017\n",
      "year:  2017\n",
      "year:  2017\n",
      "year:  2017\n",
      "year:  2017\n",
      "year:  2017\n",
      "year:  2017\n",
      "year:  2017\n",
      "year:  2017\n",
      "year:  2017\n",
      "year:  2017\n",
      "year:  2017\n",
      "year:  2017\n",
      "year:  2017\n",
      "year:  2017\n",
      "year:  2017\n",
      "year:  2017\n",
      "year:  2017\n",
      "year:  2017\n",
      "year:  2017\n",
      "year:  2017\n",
      "year:  2017\n",
      "year:  2017\n",
      "year:  2017\n"
     ]
    }
   ],
   "source": [
    "data = pd.DataFrame(columns = ['Date', 'Opponent', 'Game', 'Result', 'Score', 'ATS', 'Spread', 'OU', 'Total', 'Preview', 'Recap', 'Team'])\n",
    "for team in range(20722,20752): #20722 - 20752 Oddshark IDs for all the teams\n",
    "    for year in range(2017, 2018): #Spread Data only goes back to 2013-2014 season\n",
    "        print(\"year: \",year)\n",
    "        url = 'https://www.oddsshark.com/stats/gamelog/basketball/nba/' + str(team) +'/'+ str(year) \n",
    "        #pd.read\n",
    "        #page = urllib.r.urlopen(url).read()\n",
    "        #soup = BeautifulSoup(page, \"lxml\")\n",
    "        #table = soup.find_all('table')[0]\n",
    "        #df = pd.read_html(str(table))[0]\n",
    "        #df['Team'] = soup.find_all('h1')[0].text\n",
    "        #data = data.append(df)"
   ]
  },
  {
   "cell_type": "code",
   "execution_count": 18,
   "metadata": {},
   "outputs": [],
   "source": [
    "df = pd.read_html(url)"
   ]
  },
  {
   "cell_type": "code",
   "execution_count": 23,
   "metadata": {},
   "outputs": [],
   "source": [
    "df = df[0] "
   ]
  },
  {
   "cell_type": "code",
   "execution_count": 25,
   "metadata": {},
   "outputs": [
    {
     "data": {
      "text/plain": [
       "'+8'"
      ]
     },
     "execution_count": 25,
     "metadata": {},
     "output_type": "execute_result"
    }
   ],
   "source": [
    "df['Spread'].values[-1]  #most recent game   #for the NN, I only want this spread to be for the road team, "
   ]
  },
  {
   "cell_type": "code",
   "execution_count": 27,
   "metadata": {},
   "outputs": [
    {
     "data": {
      "text/plain": [
       "'@'"
      ]
     },
     "execution_count": 27,
     "metadata": {},
     "output_type": "execute_result"
    }
   ],
   "source": [
    "if df['Opponent'].values[-1][0] == '@': #most recent game is a road game for this team \n",
    "    \n",
    "else: \n",
    "    #team is playing at home "
   ]
  },
  {
   "cell_type": "code",
   "execution_count": 28,
   "metadata": {
    "collapsed": true
   },
   "outputs": [],
   "source": [
    "x = [0]"
   ]
  },
  {
   "cell_type": "code",
   "execution_count": 30,
   "metadata": {},
   "outputs": [
    {
     "data": {
      "text/html": [
       "<div>\n",
       "<style scoped>\n",
       "    .dataframe tbody tr th:only-of-type {\n",
       "        vertical-align: middle;\n",
       "    }\n",
       "\n",
       "    .dataframe tbody tr th {\n",
       "        vertical-align: top;\n",
       "    }\n",
       "\n",
       "    .dataframe thead th {\n",
       "        text-align: right;\n",
       "    }\n",
       "</style>\n",
       "<table border=\"1\" class=\"dataframe\">\n",
       "  <thead>\n",
       "    <tr style=\"text-align: right;\">\n",
       "      <th></th>\n",
       "      <th>Date</th>\n",
       "      <th>Opponent</th>\n",
       "      <th>Game</th>\n",
       "      <th>Result</th>\n",
       "      <th>Score</th>\n",
       "      <th>ATS</th>\n",
       "      <th>Spread</th>\n",
       "      <th>OU</th>\n",
       "      <th>Total</th>\n",
       "    </tr>\n",
       "  </thead>\n",
       "  <tbody>\n",
       "    <tr>\n",
       "      <th>81</th>\n",
       "      <td>Apr 11, 2017</td>\n",
       "      <td>@ Atlanta</td>\n",
       "      <td>REG</td>\n",
       "      <td>L</td>\n",
       "      <td>103-76</td>\n",
       "      <td>L</td>\n",
       "      <td>+8</td>\n",
       "      <td>U</td>\n",
       "      <td>203.0</td>\n",
       "    </tr>\n",
       "  </tbody>\n",
       "</table>\n",
       "</div>"
      ],
      "text/plain": [
       "            Date   Opponent Game Result   Score ATS Spread OU  Total\n",
       "81  Apr 11, 2017  @ Atlanta  REG      L  103-76   L     +8  U  203.0"
      ]
     },
     "execution_count": 30,
     "metadata": {},
     "output_type": "execute_result"
    }
   ],
   "source": [
    "df.tail(n=1)"
   ]
  },
  {
   "cell_type": "markdown",
   "metadata": {},
   "source": [
    "# Next steps:\n",
    "# Once season starts, match this oddshark team ID to nba_py team. Run the model on the training, and now look at this new problem\n",
    "\n",
    "# NBA-py will have the most recent matchup for a given day, and spread of that game can be taken from here... check for a better soruce\n"
   ]
  },
  {
   "cell_type": "code",
   "execution_count": null,
   "metadata": {
    "collapsed": true
   },
   "outputs": [],
   "source": []
  }
 ],
 "metadata": {
  "kernelspec": {
   "display_name": "Python 3",
   "language": "python",
   "name": "python3"
  },
  "language_info": {
   "codemirror_mode": {
    "name": "ipython",
    "version": 3
   },
   "file_extension": ".py",
   "mimetype": "text/x-python",
   "name": "python",
   "nbconvert_exporter": "python",
   "pygments_lexer": "ipython3",
   "version": "3.6.1"
  }
 },
 "nbformat": 4,
 "nbformat_minor": 2
}
