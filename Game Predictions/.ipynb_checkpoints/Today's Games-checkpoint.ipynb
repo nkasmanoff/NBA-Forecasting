{
 "cells": [
  {
   "cell_type": "markdown",
   "metadata": {},
   "source": [
    "# This notebook shows how to automatically load today's games, and then predict/tweet said forecast"
   ]
  },
  {
   "cell_type": "code",
   "execution_count": 1,
   "metadata": {},
   "outputs": [
    {
     "name": "stderr",
     "output_type": "stream",
     "text": [
      "/Users/noahkasmanoff/anaconda/lib/python3.6/site-packages/sklearn/cross_validation.py:41: DeprecationWarning: This module was deprecated in version 0.18 in favor of the model_selection module into which all the refactored classes and functions are moved. Also note that the interface of the new CV iterators are different from that of this module. This module will be removed in 0.20.\n",
      "  \"This module will be removed in 0.20.\", DeprecationWarning)\n",
      "Using TensorFlow backend.\n"
     ]
    }
   ],
   "source": [
    "#Step 1. Load in the data and dependencies. \n",
    "%matplotlib inline\n",
    "import numpy as np\n",
    "import NNBA\n",
    "import prediction_stuff\n",
    "import matplotlib.pyplot as plt\n",
    "np.random.seed(11)  #For reproducibility. And because Brook Lopez is the best. \n",
    "#note there is continuation, so if you run it twice without resetting the kernel the restuls will be different. "
   ]
  },
  {
   "cell_type": "code",
   "execution_count": 2,
   "metadata": {
    "scrolled": true
   },
   "outputs": [
    {
     "name": "stdout",
     "output_type": "stream",
     "text": [
      "keras NN goes here\n",
      "Train on 3820 samples, validate on 955 samples\n",
      "Epoch 1/20\n",
      "3820/3820 [==============================] - 1s 213us/step - loss: 0.8514 - acc: 0.4887 - val_loss: 0.7863 - val_acc: 0.4848\n",
      "Epoch 2/20\n",
      "3820/3820 [==============================] - 0s 40us/step - loss: 0.7233 - acc: 0.6277 - val_loss: 0.6933 - val_acc: 0.6942\n",
      "Epoch 3/20\n",
      "3820/3820 [==============================] - 0s 39us/step - loss: 0.5546 - acc: 0.7715 - val_loss: 0.5090 - val_acc: 0.8021\n",
      "Epoch 4/20\n",
      "3820/3820 [==============================] - 0s 40us/step - loss: 0.4286 - acc: 0.8285 - val_loss: 0.4523 - val_acc: 0.8283\n",
      "Epoch 5/20\n",
      "3820/3820 [==============================] - 0s 40us/step - loss: 0.3791 - acc: 0.8560 - val_loss: 0.4178 - val_acc: 0.8335\n",
      "Epoch 6/20\n",
      "3820/3820 [==============================] - 0s 39us/step - loss: 0.3535 - acc: 0.8626 - val_loss: 0.4672 - val_acc: 0.8052\n",
      "Epoch 7/20\n",
      "3820/3820 [==============================] - 0s 41us/step - loss: 0.3434 - acc: 0.8709 - val_loss: 0.3896 - val_acc: 0.8461\n",
      "Epoch 8/20\n",
      "3820/3820 [==============================] - 0s 40us/step - loss: 0.3237 - acc: 0.8804 - val_loss: 0.3722 - val_acc: 0.8492\n",
      "Epoch 9/20\n",
      "3820/3820 [==============================] - 0s 39us/step - loss: 0.3199 - acc: 0.8806 - val_loss: 0.3735 - val_acc: 0.8524\n",
      "Epoch 10/20\n",
      "3820/3820 [==============================] - 0s 40us/step - loss: 0.3023 - acc: 0.8887 - val_loss: 0.3693 - val_acc: 0.8482\n",
      "Epoch 11/20\n",
      "3820/3820 [==============================] - 0s 39us/step - loss: 0.2944 - acc: 0.8895 - val_loss: 0.3701 - val_acc: 0.8524\n",
      "Epoch 12/20\n",
      "3820/3820 [==============================] - 0s 40us/step - loss: 0.2881 - acc: 0.8908 - val_loss: 0.3628 - val_acc: 0.8492\n",
      "Epoch 13/20\n",
      "3820/3820 [==============================] - 0s 39us/step - loss: 0.2887 - acc: 0.8887 - val_loss: 0.3754 - val_acc: 0.8419\n",
      "Epoch 14/20\n",
      "3820/3820 [==============================] - 0s 40us/step - loss: 0.2996 - acc: 0.8877 - val_loss: 0.3833 - val_acc: 0.8492\n",
      "Epoch 15/20\n",
      "3820/3820 [==============================] - 0s 40us/step - loss: 0.2879 - acc: 0.8940 - val_loss: 0.3814 - val_acc: 0.8440\n",
      "Epoch 16/20\n",
      "3820/3820 [==============================] - 0s 40us/step - loss: 0.2717 - acc: 0.9005 - val_loss: 0.3632 - val_acc: 0.8565\n",
      "Epoch 17/20\n",
      "3820/3820 [==============================] - 0s 41us/step - loss: 0.2731 - acc: 0.9021 - val_loss: 0.3593 - val_acc: 0.8503\n",
      "Epoch 18/20\n",
      "3820/3820 [==============================] - 0s 41us/step - loss: 0.2660 - acc: 0.9018 - val_loss: 0.3584 - val_acc: 0.8545\n",
      "Epoch 19/20\n",
      "3820/3820 [==============================] - 0s 41us/step - loss: 0.2562 - acc: 0.9097 - val_loss: 0.3869 - val_acc: 0.8461\n",
      "Epoch 20/20\n",
      "3820/3820 [==============================] - 0s 41us/step - loss: 0.2709 - acc: 0.8982 - val_loss: 0.3979 - val_acc: 0.8440\n",
      "1767/1767 [==============================] - 0s 22us/step\n",
      "0.847764572756\n"
     ]
    }
   ],
   "source": [
    "\n",
    "#Create a model for predicting the spread outcome of a game.\n",
    "\n",
    "model,scaler = NNBA.make_network('NBADATA.csv',sklearn=False,\n",
    "                                          keras=True,normalize=True,\n",
    "                                          spread=True)\n",
    "\n",
    "\n"
   ]
  },
  {
   "cell_type": "markdown",
   "metadata": {},
   "source": [
    "This printed result means that when it scanned over NBADATA.csv, a file created using nba_py (documented in NNBA.py), after training over 3820 games and testing over 955 games, the nbapredictor neural network could correctly classify whether or not an nba game hit the over or under 86% of the time.\n",
    "\n",
    "Note this is based on the box scores of existing games! The challenge now is to find a way to predict what the box score of a future NBA game will turn out to be. In the cells below, we use the season splits of the Cleveland Cavaliers and Golden State Warriors to predict the spread winner of each game of the 2018 NBA Finals. "
   ]
  },
  {
   "cell_type": "markdown",
   "metadata": {},
   "source": [
    "In the end, this model ends up successfully --or the highest % belonging to the true winner--  4 out of the 4 times! I'd still consult other sources for game 3 though. Granted a small sample size, this model shows promise when extended throughout the entire NBA playoffs, and we look forward to seeing what comes of it start the 2018-19 NBA season. \n",
    "\n",
    "Of course there are many flaws with this system as the box score of a game will almost never be the exact regular season splits of a team. But this serves as a good starting point in learning more about NBA game prediction and modelling. \n"
   ]
  },
  {
   "cell_type": "markdown",
   "metadata": {},
   "source": [
    "And for other types of outcomes, the over under and ML are still experimental but follow the same procedure. Neither are as coherently programmed as this one so this is the launching point of our project. "
   ]
  },
  {
   "cell_type": "code",
   "execution_count": null,
   "metadata": {
    "collapsed": true
   },
   "outputs": [],
   "source": [
    "CLE = prediction_stuff.get_splits('CLE')\n",
    "GSW = prediction_stuff.get_splits('GSW')\n",
    "spread1 = 13\n",
    "spread2 = 12.5\n",
    "spread3 = -3.5\n",
    "spread4 = -4.5\n",
    "spreads = [spread1,spread2,spread3,spread4]\n",
    "\n",
    "CLEGSW1 = prediction_stuff.ML_game_maker(CLE,GSW,spread1,scaler)\n",
    "CLEGSW2 = prediction_stuff.ML_game_maker(CLE,GSW,spread2,scaler)\n",
    "CLEGSW3 = prediction_stuff.ML_game_maker(GSW,CLE,spread3,scaler)\n",
    "CLEGSW4 = prediction_stuff.ML_game_maker(GSW,CLE,spread4,scaler)\n",
    "\n",
    "the_finals = [CLEGSW1,CLEGSW2,CLEGSW3,CLEGSW4]\n",
    "\n",
    "for i,game in enumerate(the_finals):\n",
    "    prediction =  nbapredictorML.predict(game)\n",
    "    plt.figure()\n",
    "    # Data to plot\n",
    "    labels = 'Cavs', 'Warriors'\n",
    "    sizes = prediction[0]\n",
    "    colors = ['lightcoral', 'gold', 'green']\n",
    "    explode = (0.1, 0.1)  # explode each slice\n",
    " \n",
    "    # Plot\n",
    "    plt.pie(sizes, explode=explode, labels=labels, colors=colors,\n",
    "        autopct='%1.1f%%', shadow=True, startangle=140)\n",
    " \n",
    "    plt.axis('equal')\n",
    "    plt.title(\"Who Wins Game \"+ str(i+1) + \"?\")"
   ]
  },
  {
   "cell_type": "code",
   "execution_count": null,
   "metadata": {
    "collapsed": true
   },
   "outputs": [],
   "source": [
    "from datetime import datetime"
   ]
  },
  {
   "cell_type": "code",
   "execution_count": null,
   "metadata": {
    "collapsed": true
   },
   "outputs": [],
   "source": [
    "now = datetime.now()"
   ]
  },
  {
   "cell_type": "code",
   "execution_count": null,
   "metadata": {
    "collapsed": true
   },
   "outputs": [],
   "source": [
    "now.year"
   ]
  },
  {
   "cell_type": "code",
   "execution_count": null,
   "metadata": {
    "collapsed": true
   },
   "outputs": [],
   "source": [
    "matchups = prediction_stuff.get_todays_games(now.day,now.month,now.year)"
   ]
  },
  {
   "cell_type": "code",
   "execution_count": null,
   "metadata": {
    "collapsed": true
   },
   "outputs": [],
   "source": []
  },
  {
   "cell_type": "code",
   "execution_count": 24,
   "metadata": {},
   "outputs": [
    {
     "name": "stdout",
     "output_type": "stream",
     "text": [
      "Old Teams: ['TOR', 'ORL', 'IND', 'BKN', 'MIN', 'DET', 'CHI', 'HOU', 'MEM', 'OKC', 'LAL', 'BOS', 'MIL', 'DEN', 'PHX', 'SAC', 'DAL', 'POR']\n",
      "Fixed(?) Teams:  ['TOR', 'ORL', 'IND', 'BRK', 'MIN', 'DET', 'CHI', 'HOU', 'MEM', 'OKC', 'LAL', 'BOS', 'MIL', 'DEN', 'PHX', 'SAC', 'DAL', 'POR']\n",
      "matchups [['TOR', 'ORL'], ['IND', 'BRK'], ['MIN', 'DET'], ['CHI', 'HOU'], ['MEM', 'OKC'], ['LAL', 'BOS'], ['MIL', 'DEN'], ['PHX', 'SAC'], ['DAL', 'POR']]\n",
      "TOR  vs.  ORL\n",
      "PREDICTION:\n",
      "\n",
      "TOR -6.5\n",
      "[[ 0.94717818  0.0383355   0.01448635]]\n",
      "IND  vs.  BRK\n",
      "PREDICTION:\n",
      "\n",
      "BRK 6.5\n",
      "[[ 0.43933612  0.52418017  0.03648377]]\n",
      "MIN  vs.  DET\n",
      "PREDICTION:\n",
      "\n",
      "DET 6.5\n",
      "[[ 0.16354455  0.81220871  0.02424671]]\n",
      "CHI  vs.  HOU\n",
      "PREDICTION:\n",
      "\n",
      "HOU 6.5\n",
      "[[ 0.0074306   0.98921275  0.00335665]]\n",
      "MEM  vs.  OKC\n",
      "PREDICTION:\n",
      "\n",
      "OKC 6.5\n",
      "[[ 0.07226858  0.90879327  0.01893826]]\n",
      "LAL  vs.  BOS\n",
      "PREDICTION:\n",
      "\n",
      "BOS 6.5\n",
      "[[ 0.05241594  0.92376649  0.02381758]]\n",
      "MIL  vs.  DEN\n",
      "PREDICTION:\n",
      "\n",
      "DEN 6.5\n",
      "[[ 0.40418908  0.57218218  0.02362883]]\n",
      "PHX  vs.  SAC\n",
      "PREDICTION:\n",
      "\n",
      "SAC 6.5\n",
      "[[ 0.14785764  0.78615862  0.06598385]]\n",
      "DAL  vs.  POR\n",
      "PREDICTION:\n",
      "\n",
      "POR 6.5\n",
      "[[ 0.04067548  0.94307536  0.0162492 ]]\n"
     ]
    }
   ],
   "source": [
    "matchups = prediction_stuff.get_todays_games(3,2,2017)\n",
    "print('matchups',matchups)\n",
    "teamsplits = []\n",
    "teams = []\n",
    "for game in matchups:\n",
    "    for team in game:\n",
    "        teamsplit = prediction_stuff.get_splits(team)  #this is one of the arrays, now pair it up like was done\n",
    "        teamsplits.append(teamsplit)\n",
    "        teams.append(team)\n",
    "        \n",
    "home_teams_names = teams[1::2]\n",
    "away_teams_names = teams[0::2]\n",
    "home_teams = teamsplits[1::2]\n",
    "away_teams = teamsplits[0::2]\n",
    "\n",
    "spread = -6.5  #the spread for the road team, aka inverted sign for home team. \n",
    "#Spread will be extracted for that game...\n",
    "todays_matchups = []\n",
    "for i in range(len(home_teams)):\n",
    "    todays_matchups.append(prediction_stuff.spread_game_maker(away_teams[i],home_teams[i],spread,scaler))\n",
    "\n",
    "for i, game in enumerate(todays_matchups):\n",
    "    \n",
    " #   print(game)\n",
    "    print(away_teams_names[i],' vs. ', home_teams_names[i])\n",
    "    prediction = list(model.predict(game)[0])\n",
    "\n",
    "    winner = prediction.index(max(prediction))\n",
    "    print('PREDICTION:')\n",
    "    print(\"\")\n",
    "    if winner == 0: \n",
    "        #road team won the spread/mL, once I get this all together. \n",
    "        print(away_teams_names[i], spread)\n",
    "    elif winner == 1:\n",
    "        print(home_teams_names[i], -spread)\n",
    "    else:\n",
    "        print('PUSH')\n",
    "\n",
    "    print(model.predict(game))\n",
    "\n",
    "    print(\"\")"
   ]
  },
  {
   "cell_type": "code",
   "execution_count": 18,
   "metadata": {},
   "outputs": [],
   "source": [
    "prediction = list(prediction)"
   ]
  },
  {
   "cell_type": "code",
   "execution_count": null,
   "metadata": {
    "collapsed": true
   },
   "outputs": [],
   "source": [
    "new_teams = []\n",
    "for team in teams:\n",
    "    if team == 'BKN':\n",
    "        new_teams.append('BRK')\n",
    "    else:\n",
    "        new_teams.append(team)"
   ]
  },
  {
   "cell_type": "code",
   "execution_count": 19,
   "metadata": {},
   "outputs": [
    {
     "data": {
      "text/plain": [
       "0"
      ]
     },
     "execution_count": 19,
     "metadata": {},
     "output_type": "execute_result"
    }
   ],
   "source": [
    "prediction.index(max(prediction))"
   ]
  },
  {
   "cell_type": "code",
   "execution_count": null,
   "metadata": {
    "collapsed": true
   },
   "outputs": [],
   "source": []
  }
 ],
 "metadata": {
  "kernelspec": {
   "display_name": "Python 3",
   "language": "python",
   "name": "python3"
  },
  "language_info": {
   "codemirror_mode": {
    "name": "ipython",
    "version": 3
   },
   "file_extension": ".py",
   "mimetype": "text/x-python",
   "name": "python",
   "nbconvert_exporter": "python",
   "pygments_lexer": "ipython3",
   "version": "3.6.1"
  }
 },
 "nbformat": 4,
 "nbformat_minor": 2
}
