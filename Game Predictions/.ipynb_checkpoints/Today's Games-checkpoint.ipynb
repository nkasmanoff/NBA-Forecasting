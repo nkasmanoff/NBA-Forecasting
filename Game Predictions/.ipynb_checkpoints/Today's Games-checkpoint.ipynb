{
 "cells": [
  {
   "cell_type": "markdown",
   "metadata": {},
   "source": [
    "# This notebook shows how to automatically load today's games, and then predict/tweet said forecast"
   ]
  },
  {
   "cell_type": "code",
   "execution_count": 1,
   "metadata": {},
   "outputs": [
    {
     "name": "stderr",
     "output_type": "stream",
     "text": [
      "/Users/noahkasmanoff/anaconda/lib/python3.6/site-packages/sklearn/cross_validation.py:41: DeprecationWarning: This module was deprecated in version 0.18 in favor of the model_selection module into which all the refactored classes and functions are moved. Also note that the interface of the new CV iterators are different from that of this module. This module will be removed in 0.20.\n",
      "  \"This module will be removed in 0.20.\", DeprecationWarning)\n",
      "Using TensorFlow backend.\n"
     ]
    }
   ],
   "source": [
    "#Step 1. Load in the data and dependencies. \n",
    "%matplotlib inline\n",
    "import numpy as np\n",
    "import NNBA\n",
    "import prediction_stuff\n",
    "import matplotlib.pyplot as plt\n",
    "np.random.seed(11)  #For reproducibility. And because Brook Lopez is the best. \n",
    "#note there is continuation, so if you run it twice without resetting the kernel the restuls will be different. "
   ]
  },
  {
   "cell_type": "code",
   "execution_count": 2,
   "metadata": {
    "scrolled": true
   },
   "outputs": [
    {
     "name": "stdout",
     "output_type": "stream",
     "text": [
      "keras NN goes here\n",
      "Train on 3820 samples, validate on 955 samples\n",
      "Epoch 1/20\n",
      "3820/3820 [==============================] - 1s 186us/step - loss: 0.8511 - acc: 0.4890 - val_loss: 0.7860 - val_acc: 0.4838\n",
      "Epoch 2/20\n",
      "3820/3820 [==============================] - 0s 41us/step - loss: 0.7247 - acc: 0.6270 - val_loss: 0.6986 - val_acc: 0.6848\n",
      "Epoch 3/20\n",
      "3820/3820 [==============================] - 0s 40us/step - loss: 0.5597 - acc: 0.7644 - val_loss: 0.5115 - val_acc: 0.8084\n",
      "Epoch 4/20\n",
      "3820/3820 [==============================] - 0s 40us/step - loss: 0.4313 - acc: 0.8259 - val_loss: 0.4552 - val_acc: 0.8188\n",
      "Epoch 5/20\n",
      "3820/3820 [==============================] - 0s 40us/step - loss: 0.3818 - acc: 0.8555 - val_loss: 0.4234 - val_acc: 0.8314\n",
      "Epoch 6/20\n",
      "3820/3820 [==============================] - 0s 39us/step - loss: 0.3543 - acc: 0.8623 - val_loss: 0.4726 - val_acc: 0.8031\n",
      "Epoch 7/20\n",
      "3820/3820 [==============================] - 0s 39us/step - loss: 0.3436 - acc: 0.8678 - val_loss: 0.3961 - val_acc: 0.8356\n",
      "Epoch 8/20\n",
      "3820/3820 [==============================] - 0s 41us/step - loss: 0.3235 - acc: 0.8777 - val_loss: 0.3755 - val_acc: 0.8471\n",
      "Epoch 9/20\n",
      "3820/3820 [==============================] - 0s 39us/step - loss: 0.3203 - acc: 0.8783 - val_loss: 0.3788 - val_acc: 0.8513\n",
      "Epoch 10/20\n",
      "3820/3820 [==============================] - 0s 40us/step - loss: 0.3029 - acc: 0.8874 - val_loss: 0.3815 - val_acc: 0.8366\n",
      "Epoch 11/20\n",
      "3820/3820 [==============================] - 0s 40us/step - loss: 0.2949 - acc: 0.8887 - val_loss: 0.3730 - val_acc: 0.8492\n",
      "Epoch 12/20\n",
      "3820/3820 [==============================] - 0s 40us/step - loss: 0.2874 - acc: 0.8940 - val_loss: 0.3677 - val_acc: 0.8450\n",
      "Epoch 13/20\n",
      "3820/3820 [==============================] - 0s 40us/step - loss: 0.2892 - acc: 0.8877 - val_loss: 0.3843 - val_acc: 0.8429\n",
      "Epoch 14/20\n",
      "3820/3820 [==============================] - 0s 39us/step - loss: 0.3001 - acc: 0.8880 - val_loss: 0.3864 - val_acc: 0.8450\n",
      "Epoch 15/20\n",
      "3820/3820 [==============================] - 0s 39us/step - loss: 0.2831 - acc: 0.8950 - val_loss: 0.3889 - val_acc: 0.8450\n",
      "Epoch 16/20\n",
      "3820/3820 [==============================] - 0s 40us/step - loss: 0.2729 - acc: 0.8958 - val_loss: 0.3670 - val_acc: 0.8565\n",
      "Epoch 17/20\n",
      "3820/3820 [==============================] - 0s 40us/step - loss: 0.2744 - acc: 0.8995 - val_loss: 0.3628 - val_acc: 0.8586\n",
      "Epoch 18/20\n",
      "3820/3820 [==============================] - 0s 39us/step - loss: 0.2722 - acc: 0.8974 - val_loss: 0.3612 - val_acc: 0.8576\n",
      "Epoch 19/20\n",
      "3820/3820 [==============================] - 0s 40us/step - loss: 0.2610 - acc: 0.9050 - val_loss: 0.4066 - val_acc: 0.8419\n",
      "Epoch 20/20\n",
      "3820/3820 [==============================] - 0s 39us/step - loss: 0.2749 - acc: 0.8979 - val_loss: 0.3958 - val_acc: 0.8429\n",
      "1767/1767 [==============================] - 0s 19us/step\n",
      "0.848896434669\n"
     ]
    }
   ],
   "source": [
    "\n",
    "#Create a model for predicting the spread outcome of a game.\n",
    "\n",
    "model,scaler = NNBA.make_network('NBADATA.csv',sklearn=False,\n",
    "                                          keras=True,normalize=True,\n",
    "                                          spread=True)\n",
    "\n",
    "\n"
   ]
  },
  {
   "cell_type": "markdown",
   "metadata": {},
   "source": [
    "This printed result means that when it scanned over NBADATA.csv, a file created using nba_py (documented in NNBA.py), after training over 3820 games and testing over 955 games, the nbapredictor neural network could correctly classify whether or not an nba game hit the over or under 86% of the time.\n",
    "\n",
    "Note this is based on the box scores of existing games! The challenge now is to find a way to predict what the box score of a future NBA game will turn out to be. In the cells below, we use the season splits of the Cleveland Cavaliers and Golden State Warriors to predict the spread winner of each game of the 2018 NBA Finals. "
   ]
  },
  {
   "cell_type": "markdown",
   "metadata": {},
   "source": [
    "In the end, this model ends up successfully --or the highest % belonging to the true winner--  4 out of the 4 times! I'd still consult other sources for game 3 though. Granted a small sample size, this model shows promise when extended throughout the entire NBA playoffs, and we look forward to seeing what comes of it start the 2018-19 NBA season. \n",
    "\n",
    "Of course there are many flaws with this system as the box score of a game will almost never be the exact regular season splits of a team. But this serves as a good starting point in learning more about NBA game prediction and modelling. \n"
   ]
  },
  {
   "cell_type": "markdown",
   "metadata": {},
   "source": [
    "And for other types of outcomes, the over under and ML are still experimental but follow the same procedure. Neither are as coherently programmed as this one so this is the launching point of our project. "
   ]
  },
  {
   "cell_type": "code",
   "execution_count": null,
   "metadata": {},
   "outputs": [],
   "source": [
    "CLE = prediction_stuff.get_splits('CLE')\n",
    "GSW = prediction_stuff.get_splits('GSW')\n",
    "spread1 = 13\n",
    "spread2 = 12.5\n",
    "spread3 = -3.5\n",
    "spread4 = -4.5\n",
    "spreads = [spread1,spread2,spread3,spread4]\n",
    "\n",
    "CLEGSW1 = prediction_stuff.ML_game_maker(CLE,GSW,spread1,scaler)\n",
    "CLEGSW2 = prediction_stuff.ML_game_maker(CLE,GSW,spread2,scaler)\n",
    "CLEGSW3 = prediction_stuff.ML_game_maker(GSW,CLE,spread3,scaler)\n",
    "CLEGSW4 = prediction_stuff.ML_game_maker(GSW,CLE,spread4,scaler)\n",
    "\n",
    "the_finals = [CLEGSW1,CLEGSW2,CLEGSW3,CLEGSW4]\n",
    "\n",
    "for i,game in enumerate(the_finals):\n",
    "    prediction =  nbapredictorML.predict(game)\n",
    "    plt.figure()\n",
    "    # Data to plot\n",
    "    labels = 'Cavs', 'Warriors'\n",
    "    sizes = prediction[0]\n",
    "    colors = ['lightcoral', 'gold', 'green']\n",
    "    explode = (0.1, 0.1)  # explode each slice\n",
    " \n",
    "    # Plot\n",
    "    plt.pie(sizes, explode=explode, labels=labels, colors=colors,\n",
    "        autopct='%1.1f%%', shadow=True, startangle=140)\n",
    " \n",
    "    plt.axis('equal')\n",
    "    plt.title(\"Who Wins Game \"+ str(i+1) + \"?\")"
   ]
  },
  {
   "cell_type": "code",
   "execution_count": null,
   "metadata": {},
   "outputs": [],
   "source": [
    "from datetime import datetime"
   ]
  },
  {
   "cell_type": "code",
   "execution_count": null,
   "metadata": {},
   "outputs": [],
   "source": [
    "now = datetime.now()"
   ]
  },
  {
   "cell_type": "code",
   "execution_count": null,
   "metadata": {},
   "outputs": [],
   "source": [
    "now.year"
   ]
  },
  {
   "cell_type": "code",
   "execution_count": null,
   "metadata": {
    "collapsed": true
   },
   "outputs": [],
   "source": [
    "matchups = prediction_stuff.get_todays_games(now.day,now.month,now.year)"
   ]
  },
  {
   "cell_type": "code",
   "execution_count": null,
   "metadata": {
    "collapsed": true
   },
   "outputs": [],
   "source": []
  },
  {
   "cell_type": "code",
   "execution_count": 3,
   "metadata": {},
   "outputs": [
    {
     "name": "stdout",
     "output_type": "stream",
     "text": [
      "Old Teams: ['BKN', 'DET', 'CLE', 'CHI', 'LAL', 'MIN', 'LAC', 'PHX', 'HOU', 'POR']\n",
      "Fixed(?) Teams:  ['BRK', 'DET', 'CLE', 'CHI', 'LAL', 'MIN', 'LAC', 'PHX', 'HOU', 'POR']\n",
      "[['BRK', 'DET'], ['CLE', 'CHI'], ['LAL', 'MIN'], ['LAC', 'PHX'], ['HOU', 'POR']]\n",
      "[[ 0.73748505  0.21747054  0.04504435]]\n",
      "[[ 0.95844471  0.03281399  0.00874139]]\n",
      "[[ 0.98868352  0.00658248  0.00473394]]\n",
      "[[ 0.99311757  0.00391528  0.00296713]]\n",
      "[[ 0.92713326  0.05568774  0.01717897]]\n"
     ]
    }
   ],
   "source": [
    "matchups = prediction_stuff.get_todays_games(30,3,2017)\n",
    "print(matchups)\n",
    "teamsplits = []\n",
    "for game in matchups:\n",
    "    for team in game:\n",
    "        teamsplit = prediction_stuff.get_splits(team)  #this is one of the arrays, now pair it up like was done\n",
    "        teamsplits.append(teamsplit)\n",
    "\n",
    "home_teams = teamsplits[1::2]\n",
    "away_teams = teamsplits[0::2]\n",
    "\n",
    "\n",
    "#Spread will be extracted for that game...\n",
    "todays_matchups = []\n",
    "for i in range(len(home_teams)):\n",
    "    todays_matchups.append(prediction_stuff.spread_game_maker(away_teams[i],home_teams[i],7,scaler))\n",
    "\n",
    "for game in todays_matchups:\n",
    "    print(model.predict(game))\n",
    "\n"
   ]
  },
  {
   "cell_type": "code",
   "execution_count": null,
   "metadata": {
    "collapsed": true
   },
   "outputs": [],
   "source": [
    "teams = ['BKN', 'DET', 'CLE', 'CHI', 'LAL', 'MIN', 'LAC', 'PHX', 'HOU', 'POR']"
   ]
  },
  {
   "cell_type": "code",
   "execution_count": null,
   "metadata": {
    "collapsed": true
   },
   "outputs": [],
   "source": [
    "new_teams = []\n",
    "for team in teams:\n",
    "    if team == 'BKN':\n",
    "        new_teams.append('BRK')\n",
    "    else:\n",
    "        new_teams.append(team)"
   ]
  },
  {
   "cell_type": "code",
   "execution_count": null,
   "metadata": {},
   "outputs": [],
   "source": [
    "new_teams"
   ]
  },
  {
   "cell_type": "code",
   "execution_count": null,
   "metadata": {
    "collapsed": true
   },
   "outputs": [],
   "source": []
  }
 ],
 "metadata": {
  "kernelspec": {
   "display_name": "Python 3",
   "language": "python",
   "name": "python3"
  },
  "language_info": {
   "codemirror_mode": {
    "name": "ipython",
    "version": 3
   },
   "file_extension": ".py",
   "mimetype": "text/x-python",
   "name": "python",
   "nbconvert_exporter": "python",
   "pygments_lexer": "ipython3",
   "version": "3.6.1"
  }
 },
 "nbformat": 4,
 "nbformat_minor": 2
}
