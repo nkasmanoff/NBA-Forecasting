{
 "cells": [
  {
   "cell_type": "markdown",
   "metadata": {},
   "source": [
    "# This notebook contains a walkthrough of how to load in the game prediction model, and then download today's games and the corresponding spreads, and does model.predict or something to provide a suggestion with x% confidence. "
   ]
  },
  {
   "cell_type": "code",
   "execution_count": 28,
   "metadata": {},
   "outputs": [
    {
     "name": "stderr",
     "output_type": "stream",
     "text": [
      "Using TensorFlow backend.\n"
     ]
    }
   ],
   "source": [
    "#import dependencies\n",
    "from create_dataset import create_rolling_dataset  \n",
    "from keras.models import Sequential\n",
    "from keras.layers import Dense\n"
   ]
  },
  {
   "cell_type": "code",
   "execution_count": 29,
   "metadata": {},
   "outputs": [
    {
     "name": "stderr",
     "output_type": "stream",
     "text": [
      "/Users/noahkasmanoff/NBAForecasting/2k19_Forecast/create_dataset.py:60: SettingWithCopyWarning: \n",
      "A value is trying to be set on a copy of a slice from a DataFrame.\n",
      "Try using .loc[row_indexer,col_indexer] = value instead\n",
      "\n",
      "See the caveats in the documentation: http://pandas.pydata.org/pandas-docs/stable/indexing.html#indexing-view-versus-copy\n",
      "  team_season['Rolling ' + col] = team_season[col].rolling(window=N_GAMES).mean().shift(1)\n",
      "/Users/noahkasmanoff/NBAForecasting/2k19_Forecast/create_dataset.py:83: SettingWithCopyWarning: \n",
      "A value is trying to be set on a copy of a slice from a DataFrame.\n",
      "Try using .loc[row_indexer,col_indexer] = value instead\n",
      "\n",
      "See the caveats in the documentation: http://pandas.pydata.org/pandas-docs/stable/indexing.html#indexing-view-versus-copy\n",
      "  road_df['road_' + col] = road_df[col]\n",
      "/Users/noahkasmanoff/NBAForecasting/2k19_Forecast/create_dataset.py:84: SettingWithCopyWarning: \n",
      "A value is trying to be set on a copy of a slice from a DataFrame.\n",
      "Try using .loc[row_indexer,col_indexer] = value instead\n",
      "\n",
      "See the caveats in the documentation: http://pandas.pydata.org/pandas-docs/stable/indexing.html#indexing-view-versus-copy\n",
      "  home_df['home_' + col] = home_df[col]\n"
     ]
    }
   ],
   "source": [
    "#rolling window size   \n",
    "WINDOW = 5\n",
    "\n",
    "X , y = create_rolling_dataset(window=WINDOW,FILENAME='NBADATA.csv',winner=True)"
   ]
  },
  {
   "cell_type": "code",
   "execution_count": 30,
   "metadata": {
    "collapsed": true
   },
   "outputs": [],
   "source": [
    "from sklearn.model_selection import train_test_split\n",
    "from sklearn.preprocessing import MinMaxScaler\n",
    "X_train,X_test,y_train,y_test = train_test_split(X,y,random_state = 12)\n",
    "scaler  = MinMaxScaler()\n",
    "scaler.fit(X_train)\n",
    "X_train = scaler.transform(X_train)\n",
    "X_test = scaler.transform(X_test)"
   ]
  },
  {
   "cell_type": "code",
   "execution_count": 31,
   "metadata": {},
   "outputs": [
    {
     "name": "stdout",
     "output_type": "stream",
     "text": [
      "Test:  0.684830293235\n",
      "score:  0.679362880886\n"
     ]
    }
   ],
   "source": [
    "from sklearn.neural_network import MLPClassifier\n",
    "\n",
    "\n",
    "model = MLPClassifier()\n",
    "model.fit(X_train,y_train)\n",
    "\n",
    "print(\"Test: \", model.score(X_train,y_train))\n",
    "print(\"score: \", model.score(X_test,y_test))"
   ]
  },
  {
   "cell_type": "code",
   "execution_count": 32,
   "metadata": {},
   "outputs": [
    {
     "name": "stdout",
     "output_type": "stream",
     "text": [
      "Test:  0.68898637728\n",
      "score:  0.691828254848\n"
     ]
    }
   ],
   "source": [
    "from sklearn.svm import SVC\n",
    "\n",
    "\n",
    "model = SVC()\n",
    "model.fit(X_train,y_train)\n",
    "\n",
    "print(\"Test: \", model.score(X_train,y_train))\n",
    "print(\"score: \", model.score(X_test,y_test))"
   ]
  },
  {
   "cell_type": "code",
   "execution_count": null,
   "metadata": {
    "collapsed": true
   },
   "outputs": [],
   "source": []
  },
  {
   "cell_type": "code",
   "execution_count": null,
   "metadata": {
    "collapsed": true
   },
   "outputs": [],
   "source": [
    "from sklearn.model_selection import train_test_split\n",
    "from sklearn.preprocessing import MinMaxScaler\n",
    "X_train,X_test,y_train,y_test = train_test_split(X,y,random_state = 12)\n",
    "scaler  = MinMaxScaler()\n",
    "scaler.fit(X_train)\n",
    "X_train = scaler.transform(X_train)\n",
    "X_test = scaler.transform(X_test)\n",
    "\n",
    "#split and normalize data. "
   ]
  },
  {
   "cell_type": "code",
   "execution_count": null,
   "metadata": {
    "collapsed": true
   },
   "outputs": [],
   "source": [
    "from keras.models import Sequential\n",
    "from keras.layers import Dense\n",
    "\n",
    "model = Sequential()\n",
    "model.add(Dense(30, input_dim=X_train.shape[1], activation='relu'))\n",
    "#note softmax is used for classification problems as the final entry before the output. \n",
    "\n",
    "model.add(Dense(30, activation='sigmoid'))\n",
    "\n",
    "model.add(Dense(1, activation='sigmoid'))\n",
    "model.compile(loss='binary_crossentropy', optimizer='adam', metrics=['accuracy'])\n",
    "#need to use a large number of epochs for this set, still end up with non overfit data based on the validation reisutls plus model evaluation. \n",
    "model.fit(X_train,y_train,batch_size=10,epochs=20,validation_split=0.2,verbose=1)\n",
    "\n"
   ]
  },
  {
   "cell_type": "code",
   "execution_count": null,
   "metadata": {
    "collapsed": true
   },
   "outputs": [],
   "source": [
    "model.evaluate(X_test,y_test)[1]"
   ]
  },
  {
   "cell_type": "code",
   "execution_count": 1,
   "metadata": {
    "collapsed": true
   },
   "outputs": [],
   "source": [
    "import scrape_today"
   ]
  },
  {
   "cell_type": "code",
   "execution_count": 2,
   "metadata": {
    "collapsed": true
   },
   "outputs": [],
   "source": [
    "matchups = scrape_today.get_todays_games(16,10,2018)"
   ]
  },
  {
   "cell_type": "code",
   "execution_count": 3,
   "metadata": {},
   "outputs": [
    {
     "data": {
      "text/plain": [
       "[['PHI', 'BOS'], ['OKC', 'GSW']]"
      ]
     },
     "execution_count": 3,
     "metadata": {},
     "output_type": "execute_result"
    }
   ],
   "source": [
    "matchups"
   ]
  },
  {
   "cell_type": "code",
   "execution_count": 4,
   "metadata": {},
   "outputs": [
    {
     "ename": "NameError",
     "evalue": "name 'prediction_stuff' is not defined",
     "output_type": "error",
     "traceback": [
      "\u001b[0;31m---------------------------------------------------------------------------\u001b[0m",
      "\u001b[0;31mNameError\u001b[0m                                 Traceback (most recent call last)",
      "\u001b[0;32m<ipython-input-4-254ed6d583a7>\u001b[0m in \u001b[0;36m<module>\u001b[0;34m()\u001b[0m\n\u001b[0;32m----> 1\u001b[0;31m \u001b[0mscrape_today\u001b[0m\u001b[0;34m.\u001b[0m\u001b[0mpredict_todays_games\u001b[0m\u001b[0;34m(\u001b[0m\u001b[0;34m)\u001b[0m\u001b[0;34m\u001b[0m\u001b[0m\n\u001b[0m",
      "\u001b[0;32m~/NBAForecasting/2k19_Forecast/scrape_today.py\u001b[0m in \u001b[0;36mpredict_todays_games\u001b[0;34m()\u001b[0m\n\u001b[1;32m    172\u001b[0m \u001b[0;32mdef\u001b[0m \u001b[0mpredict_todays_games\u001b[0m\u001b[0;34m(\u001b[0m\u001b[0;34m)\u001b[0m\u001b[0;34m:\u001b[0m\u001b[0;34m\u001b[0m\u001b[0m\n\u001b[1;32m    173\u001b[0m     \u001b[0mnow\u001b[0m \u001b[0;34m=\u001b[0m \u001b[0mdatetime\u001b[0m\u001b[0;34m.\u001b[0m\u001b[0mnow\u001b[0m\u001b[0;34m(\u001b[0m\u001b[0;34m)\u001b[0m\u001b[0;34m\u001b[0m\u001b[0m\n\u001b[0;32m--> 174\u001b[0;31m     \u001b[0mmatchups\u001b[0m \u001b[0;34m=\u001b[0m \u001b[0mprediction_stuff\u001b[0m\u001b[0;34m.\u001b[0m\u001b[0mget_todays_games\u001b[0m\u001b[0;34m(\u001b[0m\u001b[0mnow\u001b[0m\u001b[0;34m.\u001b[0m\u001b[0mday\u001b[0m\u001b[0;34m,\u001b[0m\u001b[0mnow\u001b[0m\u001b[0;34m.\u001b[0m\u001b[0mmonth\u001b[0m\u001b[0;34m,\u001b[0m\u001b[0mnow\u001b[0m\u001b[0;34m.\u001b[0m\u001b[0myear\u001b[0m\u001b[0;34m)\u001b[0m\u001b[0;34m\u001b[0m\u001b[0m\n\u001b[0m\u001b[1;32m    175\u001b[0m     \u001b[0mteamsplits\u001b[0m \u001b[0;34m=\u001b[0m \u001b[0;34m[\u001b[0m\u001b[0;34m]\u001b[0m\u001b[0;34m\u001b[0m\u001b[0m\n\u001b[1;32m    176\u001b[0m     \u001b[0;32mfor\u001b[0m \u001b[0mgame\u001b[0m \u001b[0;32min\u001b[0m \u001b[0mmatchups\u001b[0m\u001b[0;34m:\u001b[0m\u001b[0;34m\u001b[0m\u001b[0m\n",
      "\u001b[0;31mNameError\u001b[0m: name 'prediction_stuff' is not defined"
     ]
    }
   ],
   "source": [
    "scrape_today.predict_todays_games()"
   ]
  },
  {
   "cell_type": "code",
   "execution_count": 6,
   "metadata": {},
   "outputs": [
    {
     "data": {
      "text/plain": [
       "['PHI', 'BOS']"
      ]
     },
     "execution_count": 6,
     "metadata": {},
     "output_type": "execute_result"
    }
   ],
   "source": [
    "matchups[0]"
   ]
  },
  {
   "cell_type": "code",
   "execution_count": 23,
   "metadata": {
    "collapsed": true
   },
   "outputs": [],
   "source": [
    "def get_splits(matchup,ten=False,twenty=False,regseason=True):\n",
    "    road_team = matchup[0]\n",
    "    home_team = matchup[1]\n",
    "    import numpy as np\n",
    "    import pandas as pd\n",
    "    from nba_py import team\n",
    "    teams = team.TeamList()\n",
    "    teamids = teams.info()\n",
    "    teamids = teamids[:-15]\n",
    "    teamids = teamids[['TEAM_ID','ABBREVIATION']]\n",
    "\n",
    "    teamids = teamids.rename(index=str, columns={\"ABBREVIATION\": \"Team\"})\n",
    "    teamids = teamids.replace('BKN','BRK')\n",
    "    teamids = teamids.sort_values('Team')\n",
    "\n",
    "    TEAM_ID = teamids.loc[teamids['Team'] == road_team].values[0,0]\n",
    "    teamids = pd.get_dummies(teamids)\n",
    "    teamarray = teamids.loc[teamids['TEAM_ID'] == TEAM_ID].values[0,1:]\n",
    "\n",
    "\n",
    "    TEAM = team.TeamLastNGamesSplits(team_id=TEAM_ID,season='2017-18')\n",
    "    if ten:\n",
    "        df = TEAM.last10()\n",
    "    if twenty:\n",
    "        df = TEAM.last20()\n",
    "    if regseason:\n",
    "        TEAM = team.TeamGeneralSplits(team_id=TEAM_ID,season='2017-18')\n",
    "        df = TEAM.overall()\n",
    "   # if five:\n",
    "        #df = TEAM\n",
    "    \n",
    "    df = df[['OREB','DREB','REB','PF','STL','TOV','BLK','FG3_PCT','FG_PCT','FT_PCT']].values\n",
    "    \n",
    "    road_teamsplits = df#.values   #np.concatenate((df[0],teamarray))\n",
    "    \n",
    "    teams = team.TeamList()\n",
    "    teamids = teams.info()\n",
    "    teamids = teamids[:-15]\n",
    "    teamids = teamids[['TEAM_ID','ABBREVIATION']]\n",
    "\n",
    "    teamids = teamids.rename(index=str, columns={\"ABBREVIATION\": \"Team\"})\n",
    "    teamids = teamids.replace('BKN','BRK')\n",
    "    teamids = teamids.sort_values('Team')\n",
    "\n",
    "    \n",
    "    TEAM_ID = teamids.loc[teamids['Team'] == home_team].values[0,0]\n",
    "    teamids = pd.get_dummies(teamids)\n",
    "    teamarray = teamids.loc[teamids['TEAM_ID'] == TEAM_ID].values[0,1:]\n",
    "\n",
    "\n",
    "    TEAM = team.TeamLastNGamesSplits(team_id=TEAM_ID,season='2017-18')\n",
    "    if ten:\n",
    "        df = TEAM.last10()\n",
    "    if twenty:\n",
    "        df = TEAM.last20()\n",
    "    if regseason:\n",
    "        TEAM = team.TeamGeneralSplits(team_id=TEAM_ID,season='2017-18')\n",
    "        df = TEAM.overall()\n",
    "   # if five:\n",
    "        #df = TEAM\n",
    "    \n",
    "    df = df[['OREB','DREB','REB','PF','STL','TOV','BLK','FG3_PCT','FG_PCT','FT_PCT']].values\n",
    "    home_teamsplits = df#.values  # np.concatenate((df[0],teamarray))\n",
    "    teamsplits = np.concatenate((road_teamsplits,home_teamsplits))\n",
    "    return teamsplits"
   ]
  },
  {
   "cell_type": "code",
   "execution_count": 24,
   "metadata": {
    "collapsed": true
   },
   "outputs": [],
   "source": [
    "six_celts = get_splits(matchups[0],ten=True)"
   ]
  },
  {
   "cell_type": "code",
   "execution_count": 25,
   "metadata": {},
   "outputs": [
    {
     "data": {
      "text/plain": [
       "(2, 10)"
      ]
     },
     "execution_count": 25,
     "metadata": {},
     "output_type": "execute_result"
    }
   ],
   "source": [
    "six_celts.shape"
   ]
  },
  {
   "cell_type": "code",
   "execution_count": 26,
   "metadata": {},
   "outputs": [
    {
     "data": {
      "text/plain": [
       "array([[ 10.9  ,  36.5  ,  47.4  ,  22.1  ,   8.3  ,  16.5  ,   5.1  ,\n",
       "          0.369,   0.472,   0.752],\n",
       "       [  9.4  ,  35.1  ,  44.5  ,  19.7  ,   7.4  ,  14.   ,   4.5  ,\n",
       "          0.377,   0.45 ,   0.771]])"
      ]
     },
     "execution_count": 26,
     "metadata": {},
     "output_type": "execute_result"
    }
   ],
   "source": [
    "six_celts"
   ]
  },
  {
   "cell_type": "code",
   "execution_count": null,
   "metadata": {
    "collapsed": true
   },
   "outputs": [],
   "source": []
  }
 ],
 "metadata": {
  "kernelspec": {
   "display_name": "Python 3",
   "language": "python",
   "name": "python3"
  },
  "language_info": {
   "codemirror_mode": {
    "name": "ipython",
    "version": 3
   },
   "file_extension": ".py",
   "mimetype": "text/x-python",
   "name": "python",
   "nbconvert_exporter": "python",
   "pygments_lexer": "ipython3",
   "version": "3.6.1"
  }
 },
 "nbformat": 4,
 "nbformat_minor": 2
}
