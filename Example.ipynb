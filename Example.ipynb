{
 "cells": [
  {
   "cell_type": "markdown",
   "metadata": {},
   "source": [
    "This notebook contains instructions on how this software package is used to train on on previous nba games, and by doing so attempt to predict the outcome of future ones. In this case, I will be using game 4 of the 2018 NBA finals as an example. "
   ]
  },
  {
   "cell_type": "code",
   "execution_count": null,
   "metadata": {},
   "outputs": [],
   "source": [
    "#Step 1. Load in the data. \n",
    "import NNBA\n",
    "import prediction_stuff"
   ]
  },
  {
   "cell_type": "code",
   "execution_count": null,
   "metadata": {
    "scrolled": true
   },
   "outputs": [],
   "source": [
    "\n",
    "#Create a model for predicting the over under outcome of a game.\n",
    "\n",
    "nbapredictorSPREAD,scaler = NNBA.make_network('NBADATA.csv',sklearn=True,\n",
    "                                          keras=False,normalize=True,\n",
    "                                          spread=True)\n",
    "\n",
    "\n"
   ]
  },
  {
   "cell_type": "markdown",
   "metadata": {},
   "source": [
    "This printed result means that when it scanned over NBADATA.csv, a file created using nba_py (documented in x.py), after training over x games and testing over x games, the nbapredictor neural network could correctly classify whether or not an nba game hit the over or under 72% of the time. "
   ]
  },
  {
   "cell_type": "code",
   "execution_count": null,
   "metadata": {},
   "outputs": [],
   "source": [
    "CLE = prediction_stuff.get_splits('CLE')\n",
    "GSW = prediction_stuff.get_splits('GSW')\n",
    "\n",
    "CLEGSW = prediction_stuff.spread_game_maker(CLE,GSW,15,scaler)"
   ]
  },
  {
   "cell_type": "code",
   "execution_count": null,
   "metadata": {},
   "outputs": [],
   "source": [
    "nbapredictorSPREAD.predict(CLEGSW)"
   ]
  },
  {
   "cell_type": "markdown",
   "metadata": {},
   "source": [
    "Unsuprisingly, this model picked the Golden State Warriors to cover the spread based on their regular season splits as opposed to the Cleveland Cavaliers, in an event where the cavs are 7 point underdogs. There are many ways to leverage this, as well as find a new line that this model feels is more reflective of what the spread should be. \n",
    "\n",
    "\n",
    "Of course there are many flaws with this system as the box score of a game will almost never be the exact regular season splits of a team. But this serves as a good starting point in learning more about NBA game prediction and modelling. "
   ]
  },
  {
   "cell_type": "markdown",
   "metadata": {},
   "source": [
    "And for other types of outcomes, the over under and ML are still experimental but follow the same procedure. Neither are as coherently programmed as this one so this is the launching point of our project. "
   ]
  },
  {
   "cell_type": "code",
   "execution_count": null,
   "metadata": {},
   "outputs": [],
   "source": [
    "#Create a model for predicting the spread winner.\n"
   ]
  },
  {
   "cell_type": "code",
   "execution_count": null,
   "metadata": {},
   "outputs": [],
   "source": []
  },
  {
   "cell_type": "code",
   "execution_count": null,
   "metadata": {
    "collapsed": true
   },
   "outputs": [],
   "source": [
    "nbapredictorOU.predict(CLEGSW)"
   ]
  },
  {
   "cell_type": "code",
   "execution_count": null,
   "metadata": {
    "collapsed": true
   },
   "outputs": [],
   "source": []
  },
  {
   "cell_type": "code",
   "execution_count": null,
   "metadata": {
    "collapsed": true
   },
   "outputs": [],
   "source": [
    "prediction_stuff.get_splits('BRK')"
   ]
  },
  {
   "cell_type": "code",
   "execution_count": null,
   "metadata": {
    "collapsed": true
   },
   "outputs": [],
   "source": []
  }
 ],
 "metadata": {
  "kernelspec": {
   "display_name": "Python 3",
   "language": "python",
   "name": "python3"
  },
  "language_info": {
   "codemirror_mode": {
    "name": "ipython",
    "version": 3
   },
   "file_extension": ".py",
   "mimetype": "text/x-python",
   "name": "python",
   "nbconvert_exporter": "python",
   "pygments_lexer": "ipython3",
   "version": "3.6.1"
  }
 },
 "nbformat": 4,
 "nbformat_minor": 2
}
